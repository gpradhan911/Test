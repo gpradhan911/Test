{
 "cells": [
  {
   "metadata": {},
   "cell_type": "markdown",
   "source": [
    "# This is a sample Jupyter Notebook\n",
    "\n",
    "Below is an example of a code cell. \n",
    "Put your cursor into the cell and press Shift+Enter to execute it and select the next one, or click 'Run Cell' button.\n",
    "\n",
    "Press Double Shift to search everywhere for classes, files, tool windows, actions, and settings.\n",
    "\n",
    "To learn more about Jupyter Notebooks in PyCharm, see [help](https://www.jetbrains.com/help/pycharm/ipython-notebook-support.html).\n",
    "For an overview of PyCharm, go to Help -> Learn IDE features or refer to [our documentation](https://www.jetbrains.com/help/pycharm/getting-started.html)."
   ],
   "id": "8a77807f92f26ee"
  },
  {
   "metadata": {},
   "cell_type": "code",
   "source": [
    "import numpy as np\n",
    "import matplotlib.pyplot as plt\n",
    "import seaborn as sns\n",
    "import pandas as pd\n",
    "from prompt_toolkit.utils import to_int\n",
    "from pyspark.sql import SparkSession\n",
    "from pyspark.sql.functions import col ,length\n"
   ],
   "id": "fbc121e30a2defb3",
   "outputs": [],
   "execution_count": null
  },
  {
   "metadata": {},
   "cell_type": "code",
   "source": "sp= SparkSession.builder.appName(\"Simple App\").getOrCreate()\n",
   "id": "78d941baef5f0f0a",
   "outputs": [],
   "execution_count": null
  },
  {
   "metadata": {},
   "cell_type": "code",
   "source": [
    "base=\"/Users/gyanapradhan/Desktop/Datasets/\"\n",
    "df_sp = sp.read.csv(base+ \"all_stocks_5yr.csv\",header=True,inferSchema=True)"
   ],
   "id": "a7a82480f06f6675",
   "outputs": [],
   "execution_count": null
  },
  {
   "metadata": {},
   "cell_type": "code",
   "source": "df_sp.show(2, truncate=False)\n",
   "id": "9c101e03a85c172",
   "outputs": [],
   "execution_count": null
  },
  {
   "metadata": {},
   "cell_type": "code",
   "source": [
    "count_aapl= df_sp[df_sp['Name']=='AAPL'].count()\n",
    "count_aapl"
   ],
   "id": "8e64910ae29a7cf5",
   "outputs": [],
   "execution_count": null
  },
  {
   "metadata": {},
   "cell_type": "code",
   "source": [
    "count= df_sp.filter(df_sp['Name']=='AAPL').count()\n",
    "count"
   ],
   "id": "16aa6d9b4f738ac0",
   "outputs": [],
   "execution_count": null
  },
  {
   "metadata": {},
   "cell_type": "code",
   "source": [
    "unique_comp = df_sp.select('Name').distinct()\n",
    "unique_comp.show()"
   ],
   "id": "f595f72437cb8a79",
   "outputs": [],
   "execution_count": null
  },
  {
   "metadata": {},
   "cell_type": "code",
   "source": [
    "count= df_sp.filter(df_sp['close']> df_sp['Open']).count()\n",
    "count"
   ],
   "id": "cb37bed2e59642f2",
   "outputs": [],
   "execution_count": null
  },
  {
   "metadata": {},
   "cell_type": "code",
   "source": [
    "df_aapl = df_sp[df_sp['Name']=='AAPL']\n",
    "highest_aapl=df_aapl.agg({'High': 'max', 'low': 'min'}).collect()\n",
    "highest_aapl"
   ],
   "id": "2272aa2f03046dc7",
   "outputs": [],
   "execution_count": null
  },
  {
   "metadata": {},
   "cell_type": "code",
   "source": [
    "volatility_stocks = df_sp.groupby('Name').agg({'close':'std'}).orderBy(col('stddev(close)').asc()).collect()\n",
    "volatility_stocks.show(1)\n"
   ],
   "id": "1ee26c4386666006",
   "outputs": [],
   "execution_count": null
  },
  {
   "metadata": {},
   "cell_type": "code",
   "source": [
    "higest_vol_date = df_sp.groupby('date').agg({\"volume\":'sum'}).orderBy(col(\"sum(volume)\").desc()).collect()\n",
    "higest_vol_date[0][1]\n"
   ],
   "id": "3706db6d2357cf58",
   "outputs": [],
   "execution_count": null
  },
  {
   "metadata": {},
   "cell_type": "code",
   "source": [
    "highest_traded_stock = df_sp.groupby('Name').agg({'volume':'sum'}).orderBy(col(\"sum(volume)\").desc()).collect()\n",
    "highest_traded_stock[0]"
   ],
   "id": "4ac3907d19ee4e9c",
   "outputs": [],
   "execution_count": null
  },
  {
   "metadata": {},
   "cell_type": "code",
   "source": [
    "stas_A = df_sp.select('Name').distinct().filter(col('Name').startswith('A'))\n",
    "stas_A.count()"
   ],
   "id": "522a53b5aec620c5",
   "outputs": [],
   "execution_count": null
  },
  {
   "metadata": {},
   "cell_type": "code",
   "source": [
    "tas_A = df_sp.filter(col('Name').startswith('A'))\n",
    "stas_A.select(\"Name\").distinct().show()"
   ],
   "id": "ddc325b3b28ff6c6",
   "outputs": [],
   "execution_count": null
  },
  {
   "metadata": {},
   "cell_type": "code",
   "source": [
    "Day_close_at_high = df_sp.filter(df_sp['high'] == df_sp['low'])\n",
    "Day_close_at_high.show()\n",
    "Frequency=  (Day_close_at_high.count()/df_sp.count())*100\n",
    "Frequency\n"
   ],
   "id": "78eb0133456c8d9a",
   "outputs": [],
   "execution_count": null
  },
  {
   "metadata": {},
   "cell_type": "code",
   "source": [
    "#df_aapl[\"high_low\"]=df_aapl.groupby('date').select([df_aapl['high']-df_aapl['low']])\n",
    "df_aapl_highlow = df_aapl.withColumn('diff_open_close', df_aapl['high']-df_aapl['low'])\n",
    "date_appl_high_diff = df_aapl_highlow.agg({'diff_open_close': 'max'}).orderBy(col(\"max(diff_open_close)\").desc()).collect()\n",
    "date_appl_high_diff[0]"
   ],
   "id": "baf728ed672d14b",
   "outputs": [],
   "execution_count": null
  },
  {
   "metadata": {},
   "cell_type": "code",
   "source": [
    "avg_vol_aapl=df_aapl.groupby('date').agg({'volume':'avg'}).orderBy(col(\"avg(volume)\").desc()).collect()\n",
    "avg_vol_aapl[0:3][0:3]"
   ],
   "id": "e6e32d9b0a863b1c",
   "outputs": [],
   "execution_count": null
  },
  {
   "metadata": {},
   "cell_type": "code",
   "source": [
    "stats= df_aapl.agg({\"volume\": \"avg\"}).collect()\n",
    "stats"
   ],
   "id": "da51c0bd6f64b51a",
   "outputs": [],
   "execution_count": null
  },
  {
   "metadata": {},
   "cell_type": "code",
   "source": [
    "#How many stocks have 1, 2, 3, 4, and 5 characters in their names, respectively?¶\n",
    "df_sp_column_name_length= df_sp.withcolumn( \"Name_length\", length(col('Name')))\n",
    "count_name_length = df_sp_column_name_length.groupby('Name_length').orderBy(col('Name_length')).count()\n"
   ],
   "id": "ad994eb1acd47086",
   "outputs": [],
   "execution_count": null
  },
  {
   "metadata": {},
   "cell_type": "code",
   "source": [
    "#least traded Stock\n",
    "least_traded_stock = df.groupby(\"Name\").agg({\"volume\": \"sum\"}).orderBy(col(\"sum(volume)\").asc()).first()"
   ],
   "id": "861f70a43b03b81c",
   "outputs": [],
   "execution_count": null
  },
  {
   "metadata": {},
   "cell_type": "code",
   "source": "",
   "id": "97af3b5ed06dba40",
   "outputs": [],
   "execution_count": null
  }
 ],
 "metadata": {
  "kernelspec": {
   "display_name": "Python 3",
   "language": "python",
   "name": "python3"
  },
  "language_info": {
   "codemirror_mode": {
    "name": "ipython",
    "version": 2
   },
   "file_extension": ".py",
   "mimetype": "text/x-python",
   "name": "python",
   "nbconvert_exporter": "python",
   "pygments_lexer": "ipython2",
   "version": "2.7.6"
  }
 },
 "nbformat": 4,
 "nbformat_minor": 5
}
