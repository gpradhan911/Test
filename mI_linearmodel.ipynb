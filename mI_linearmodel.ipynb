{
 "cells": [
  {
   "cell_type": "code",
   "id": "initial_id",
   "metadata": {
    "collapsed": true
   },
   "source": [
    "\n",
    "import pandas as pd\n",
    "import numpy as np\n",
    "import matplotlib.pyplot as plt\n",
    "from PIL.DdsImagePlugin import DXGI_FORMAT_BC6H_SF16\n",
    "from jedi.api.refactoring import inline\n",
    "from pandas.io.stata import StataNonCatValueLabel\n",
    "from sklearn import linear_model\n"
   ],
   "outputs": [],
   "execution_count": null
  },
  {
   "metadata": {},
   "cell_type": "code",
   "source": [
    "df= pd.read_csv(\"/users/gyanapradhan/Desktop/MissingValue.csv\")\n",
    "\n"
   ],
   "id": "f4755acc999db375",
   "outputs": [],
   "execution_count": null
  },
  {
   "metadata": {},
   "cell_type": "code",
   "source": [
    "%matplotlib inline\n",
    "plt.scatter(df.age.notnull(), df.Experience.notnull())"
   ],
   "id": "56e4d314afc2d65f",
   "outputs": [],
   "execution_count": null
  },
  {
   "metadata": {},
   "cell_type": "code",
   "source": "print(df)\n",
   "id": "9f9302828c9652fd",
   "outputs": [],
   "execution_count": null
  },
  {
   "metadata": {},
   "cell_type": "code",
   "source": [
    "age_median= df.age.median()\n",
    "print(age_median)\n",
    "experience_mean= df.Experience.mean()\n",
    "print(experience_mean)\n",
    "salary_avg =df.Salary.mean()\n",
    "print(salary_avg)"
   ],
   "id": "3d6efaf278c2a580",
   "outputs": [],
   "execution_count": null
  },
  {
   "metadata": {},
   "cell_type": "code",
   "source": [
    "df.age.fillna (age_median)\n",
    "df.Experience.fillna(experience_mean)\n",
    "df.Salary.fillna(salary_avg)"
   ],
   "id": "eb9e1165f594eb55",
   "outputs": [],
   "execution_count": null
  },
  {
   "metadata": {},
   "cell_type": "code",
   "source": [
    "\n",
    "df.fillna('Null')"
   ],
   "id": "f6b34a701dd9dc28",
   "outputs": [],
   "execution_count": null
  },
  {
   "metadata": {},
   "cell_type": "code",
   "source": "print (df.replace('Shubham','Arihan'))\n",
   "id": "eee050e80345d5f6",
   "outputs": [],
   "execution_count": null
  },
  {
   "metadata": {},
   "cell_type": "code",
   "source": [
    "df.loc[df['Name'] == 'Mahesh','Name']= 'Shree'\n",
    "#df.at[df['Name']=='Mahesh','Name']='Shree'\n",
    "df"
   ],
   "id": "6647419baac4b097",
   "outputs": [],
   "execution_count": null
  },
  {
   "metadata": {},
   "cell_type": "code",
   "source": [
    "df.loc[6,\"Experience\"]= 5\n",
    "df"
   ],
   "id": "d70bb51ae2e51ea5",
   "outputs": [],
   "execution_count": null
  },
  {
   "metadata": {},
   "cell_type": "code",
   "source": "df['Experince_Boolean']=np.where(df[\"Experience\"] > 5.0,True,False)",
   "id": "2a7dbaa0df680ca",
   "outputs": [],
   "execution_count": null
  },
  {
   "metadata": {},
   "cell_type": "code",
   "source": "df",
   "id": "35bcfda5c135651e",
   "outputs": [],
   "execution_count": null
  },
  {
   "metadata": {},
   "cell_type": "code",
   "source": "df.Name.mask(df[\"Experience\"] <= 1.0,\"In-eligible\")\n",
   "id": "1ff35bbb4b86c44c",
   "outputs": [],
   "execution_count": null
  },
  {
   "metadata": {},
   "cell_type": "code",
   "source": [
    "df['Salary limit']=pd.cut(df[\"Salary\"] ,2)\n",
    "df"
   ],
   "id": "2a4685e9f0e28438",
   "outputs": [],
   "execution_count": null
  },
  {
   "metadata": {},
   "cell_type": "code",
   "source": [
    "df1= pd.DataFrame({\"A\":[0,1,2],\n",
    "                  \"B\":[20,21,22],\n",
    "                  \"C\":[100,101,1022]})\n",
    "df1_new = df.copy()\n",
    "df1_original= pd.DataFrame({\"B\":[30,31,32],\n",
    "                           \"C\": [400,401,402],\n",
    "                           \"D\": [1000,1001,1002]})\n"
   ],
   "id": "9939f878e533f0bc",
   "outputs": [],
   "execution_count": null
  },
  {
   "metadata": {},
   "cell_type": "code",
   "source": "df1\n",
   "id": "90e3ae416faa355b",
   "outputs": [],
   "execution_count": null
  },
  {
   "metadata": {},
   "cell_type": "code",
   "source": "df1_new\n",
   "id": "2364ae6fe8a60c23",
   "outputs": [],
   "execution_count": null
  },
  {
   "metadata": {},
   "cell_type": "code",
   "source": "df1_original",
   "id": "761c4020af36f6a9",
   "outputs": [],
   "execution_count": null
  },
  {
   "metadata": {},
   "cell_type": "code",
   "source": "df1.update(df1_original)",
   "id": "e9434b924e2c6251",
   "outputs": [],
   "execution_count": null
  },
  {
   "metadata": {},
   "cell_type": "code",
   "source": "df1",
   "id": "919fc19496433dd0",
   "outputs": [],
   "execution_count": null
  },
  {
   "metadata": {},
   "cell_type": "code",
   "source": "",
   "id": "44eef28be2763230",
   "outputs": [],
   "execution_count": null
  }
 ],
 "metadata": {
  "kernelspec": {
   "display_name": "Python 3",
   "language": "python",
   "name": "python3"
  },
  "language_info": {
   "codemirror_mode": {
    "name": "ipython",
    "version": 2
   },
   "file_extension": ".py",
   "mimetype": "text/x-python",
   "name": "python",
   "nbconvert_exporter": "python",
   "pygments_lexer": "ipython2",
   "version": "2.7.6"
  }
 },
 "nbformat": 4,
 "nbformat_minor": 5
}
