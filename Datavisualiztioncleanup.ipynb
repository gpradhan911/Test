{
 "cells": [
  {
   "cell_type": "code",
   "id": "initial_id",
   "metadata": {},
   "source": [
    "import pandas as pd\n",
    "import numpy as np\n",
    "import pyspark\n",
    "#from pyspark.logger import PySparkLogger\n",
    "from pyspark.sql import SparkSession\n",
    "pd.set_option('display.max_columns', None)\n",
    "#pd.set_option('display.max_rows', None)\n",
    "import matplotlib.pyplot as plt \n"
   ],
   "outputs": [],
   "execution_count": null
  },
  {
   "cell_type": "code",
   "id": "77571be1-d12c-4382-bbdc-8b175874cda1",
   "metadata": {},
   "source": [
    "spark= SparkSession.builder.appName('Test').config(\"spark.sql.debug.maxToStringFields\", 100).getOrCreate()\n",
    "df_spark= spark.read.option('header','true').option('inferSchema','true').csv('/Users/gyanapradhan/Desktop/NY_censusdata.csv')"
   ],
   "outputs": [],
   "execution_count": null
  },
  {
   "cell_type": "code",
   "id": "e7f3ab4c-bc90-4cba-88da-8c7fb04b7859",
   "metadata": {},
   "source": [
    "df_spark.show(2,truncate=False)"
   ],
   "outputs": [],
   "execution_count": null
  },
  {
   "cell_type": "code",
   "id": "1088e264-24bc-4a3d-b86b-938aaa6b66fd",
   "metadata": {},
   "source": [
    "df=pd.read_csv(\"/Users/gyanapradhan/Desktop/NY_censusdata.csv\")\n",
    "df.head(10)\n"
   ],
   "outputs": [],
   "execution_count": null
  },
  {
   "cell_type": "code",
   "id": "8d5ae787-1c12-4773-9e80-f9e99eb045c0",
   "metadata": {},
   "source": [
    "df.columns\n"
   ],
   "outputs": [],
   "execution_count": null
  },
  {
   "cell_type": "code",
   "id": "2d7a91eb-e5e6-4ec3-9e02-403ac8724bee",
   "metadata": {},
   "source": [
    "df_subset= df[['tree_id', 'block_id', 'created_at', 'tree_dbh', 'stump_diam',\n",
    "       'curb_loc', 'status', 'health', 'sidewalk', 'user_type', 'problems', 'root_stone',\n",
    "       'root_grate', 'trunk_wire', 'trnk_light', 'trnk_other',\n",
    "       'brch_light', 'brch_shoe', 'brch_other']]"
   ],
   "outputs": [],
   "execution_count": null
  },
  {
   "metadata": {},
   "cell_type": "markdown",
   "source": "",
   "id": "8c3bad3bae064e28"
  },
  {
   "cell_type": "code",
   "id": "dea7629e-501d-4cbe-bb84-7accb7151bfd",
   "metadata": {},
   "source": [
    "df_subset\n"
   ],
   "outputs": [],
   "execution_count": null
  },
  {
   "cell_type": "code",
   "id": "a2df9bbf-30b4-47bb-960b-769e7fc9b237",
   "metadata": {},
   "source": [
    "df_subset.isnull().sum()"
   ],
   "outputs": [],
   "execution_count": null
  },
  {
   "cell_type": "code",
   "id": "327b9848-4f5d-4072-87d9-fbfd858db524",
   "metadata": {},
   "source": [
    "df_subset[df_subset['health'] .isnull()]"
   ],
   "outputs": [],
   "execution_count": null
  },
  {
   "cell_type": "code",
   "id": "127920d1-be81-42da-949f-bc6f9fe99b8a",
   "metadata": {},
   "source": [
    "df_subset.describe()\n"
   ],
   "outputs": [],
   "execution_count": null
  },
  {
   "cell_type": "code",
   "id": "2f821cc7-c940-4181-84bb-e225db86f6dd",
   "metadata": {},
   "source": [
    "df_subset.dtypes\n"
   ],
   "outputs": [],
   "execution_count": null
  },
  {
   "cell_type": "code",
   "id": "64be127c-47d9-4b26-b21a-d7d05fb60cd1",
   "metadata": {},
   "source": [
    "df_subset.hist(bins=50)"
   ],
   "outputs": [],
   "execution_count": null
  },
  {
   "cell_type": "code",
   "id": "41ce7167-26fc-4868-b357-f8bfd2c7569e",
   "metadata": {},
   "source": [
    "df_subset[df_subset['tree_dbh']>=30]"
   ],
   "outputs": [],
   "execution_count": null
  },
  {
   "cell_type": "code",
   "id": "5b1cee75-9a1f-4cdf-98a5-83a6a93a3aee",
   "metadata": {},
   "source": [
    "bigtrees=df_subset[df_subset['tree_dbh']>= 50]"
   ],
   "outputs": [],
   "execution_count": null
  },
  {
   "cell_type": "code",
   "id": "04300d42-5dff-462e-93f8-1f971fe32cea",
   "metadata": {},
   "source": [
    "bigtrees"
   ],
   "outputs": [],
   "execution_count": null
  },
  {
   "cell_type": "code",
   "id": "1e8c6930-4d0b-49bf-9f7b-948d8c0dfd7d",
   "metadata": {},
   "source": [
    "bigtrees[['tree_id','tree_dbh']].plot(kind='scatter',x='tree_id',y='tree_dbh')"
   ],
   "outputs": [],
   "execution_count": null
  },
  {
   "cell_type": "code",
   "id": "35fabbdf-f834-4538-9a41-20a3d7ac3836",
   "metadata": {},
   "source": [
    "Problem_trees= df_subset[['root_stone', 'root_grate', 'trunk_wire', 'trnk_light', 'trnk_other',\n",
    "       'brch_light', 'brch_shoe', 'brch_other']]\n",
    "Problem_trees.apply(pd.Series.value_counts)\n"
   ],
   "outputs": [],
   "execution_count": null
  },
  {
   "cell_type": "code",
   "id": "f701f788-67ee-48e6-bd65-1731aef20599",
   "metadata": {},
   "source": [
    "\n",
    "df_subset['health'].fillna('None',inplace=True)\n",
    "df_subset['problems'].fillna('Good', inplace=True)\n",
    "df_subset['sidewalk'].fillna('NoDamage',inplace=True)"
   ],
   "outputs": [],
   "execution_count": null
  },
  {
   "cell_type": "code",
   "id": "9838a42b-8b1f-4ba4-abd0-4d14e7931acf",
   "metadata": {},
   "source": [
    "df_subset.isna().sum()"
   ],
   "outputs": [],
   "execution_count": null
  },
  {
   "cell_type": "code",
   "id": "79a0e4f2-9531-49d9-80ca-f13e63f75ab9",
   "metadata": {},
   "source": [
    "df_subset_aliveTree = df_subset[df_subset['status']=='Alive']\n",
    "df_subset_tree_dead_or_stump = df_subset[(df_subset['status']== 'Dead') | (df_subset['status']=='stump')]"
   ],
   "outputs": [],
   "execution_count": null
  },
  {
   "cell_type": "code",
   "id": "e3d350ed-b77b-4305-89be-c0fba1a2e80a",
   "metadata": {},
   "source": [
    "df_stats=df_subset_aliveTree.groupby('created_at')['tree_dbh'].describe().reset_index()[['created_at','25%','75%']]\n"
   ],
   "outputs": [],
   "execution_count": null
  },
  {
   "cell_type": "code",
   "id": "093c0d76-10fc-40be-bb8a-fa2cfce7ac37",
   "metadata": {},
   "source": [
    "df_subset_alivetree_new = df_subset_aliveTree.merge(df_stats,on='created_at',how= 'left')"
   ],
   "outputs": [],
   "execution_count": null
  },
  {
   "cell_type": "code",
   "id": "ad3b414b-2259-4ffc-a2f0-eb87384fe9d8",
   "metadata": {},
   "source": [
    "mask= df_subset_alivetree_new ['tree_dbh']< df_subset_alivetree_new ['25%']\n",
    "df_subset_alivetree_new.loc[mask,['tree_dbh']] = df_subset_alivetree_new ['25%']"
   ],
   "outputs": [],
   "execution_count": null
  },
  {
   "cell_type": "code",
   "id": "fcbf06a5-bbc6-42f5-b8f4-736565290084",
   "metadata": {},
   "source": [
    "df_subset_alivetree_new"
   ],
   "outputs": [],
   "execution_count": null
  },
  {
   "cell_type": "code",
   "id": "21ddb8bf-4c46-4fc9-b5c3-d1997229973c",
   "metadata": {},
   "source": [
    "mask= df_subset_alivetree_new ['tree_dbh']> df_subset_alivetree_new ['75%']\n",
    "df_subset_alivetree_new.loc[mask,['tree_dbh']] = df_subset_alivetree_new ['75%']"
   ],
   "outputs": [],
   "execution_count": null
  },
  {
   "cell_type": "code",
   "id": "9d5390e1-3acf-4cc9-8505-9121afd2d735",
   "metadata": {},
   "source": [
    "df_subset_alivetree_new[df_subset_alivetree_new.problems == 'Good']"
   ],
   "outputs": [],
   "execution_count": null
  },
  {
   "cell_type": "code",
   "id": "23da741c-633d-4f36-8087-af64b63787cd",
   "metadata": {},
   "source": [
    "health_good= (df_subset_alivetree_new.problems == 'Good')\n",
    "df_subset_alivetree_new[health_good]"
   ],
   "outputs": [],
   "execution_count": null
  },
  {
   "cell_type": "code",
   "id": "624c34e1-907c-44d2-b1ca-91feb0a71319",
   "metadata": {},
   "source": [],
   "outputs": [],
   "execution_count": null
  }
 ],
 "metadata": {
  "kernelspec": {
   "display_name": "Python 3 (ipykernel)",
   "language": "python",
   "name": "python3"
  },
  "language_info": {
   "codemirror_mode": {
    "name": "ipython",
    "version": 3
   },
   "file_extension": ".py",
   "mimetype": "text/x-python",
   "name": "python",
   "nbconvert_exporter": "python",
   "pygments_lexer": "ipython3",
   "version": "3.13.5"
  }
 },
 "nbformat": 4,
 "nbformat_minor": 5
}
