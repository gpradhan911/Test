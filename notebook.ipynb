{
 "cells": [
  {
   "cell_type": "code",
   "execution_count": null,
   "id": "fbc121e30a2defb3",
   "metadata": {
    "jupyter": {
     "is_executing": true
    }
   },
   "outputs": [],
   "source": [
    "print(\"Hello World!\")\n",
    "print('hello')"
   ]
  },
  {
   "cell_type": "code",
   "execution_count": 4,
   "id": "135862be-f8af-473d-92fd-697c829ebd55",
   "metadata": {},
   "outputs": [],
   "source": [
    "import pandas as pd"
   ]
  },
  {
   "cell_type": "code",
   "execution_count": 89,
   "id": "4151837a-e524-4643-95f1-435f4586f9c8",
   "metadata": {},
   "outputs": [
    {
     "data": {
      "text/plain": [
       "Age                 3.548571e+01\n",
       "Experience_Years    1.000000e+00\n",
       "Salary              1.000000e+07\n",
       "dtype: float64"
      ]
     },
     "execution_count": 89,
     "metadata": {},
     "output_type": "execute_result"
    }
   ],
   "source": [
    "agg_dict ={'Age':'mean',\n",
    "           'Experience_Years': 'min',\n",
    "           'Salary' : 'max'\n",
    "          }\n",
    "df_pd1.agg(agg_dict)"
   ]
  },
  {
   "cell_type": "code",
   "execution_count": 3,
   "id": "d1f0dcee-03c3-4523-a714-61aa4dd0d16a",
   "metadata": {},
   "outputs": [],
   "source": [
    "import pyspark"
   ]
  },
  {
   "cell_type": "code",
   "id": "2f5b79f9-7066-4967-be8c-338396034c7c",
   "metadata": {
    "ExecuteTime": {
     "end_time": "2025-10-09T03:58:30.289040Z",
     "start_time": "2025-10-09T03:58:29.984643Z"
    }
   },
   "source": [
    "from pyspark.sql import SparkSession"
   ],
   "outputs": [],
   "execution_count": 2
  },
  {
   "cell_type": "code",
   "id": "c2ab07cb-3467-4040-8704-be7ef33b6002",
   "metadata": {
    "ExecuteTime": {
     "end_time": "2025-10-09T03:58:55.490747Z",
     "start_time": "2025-10-09T03:58:32.753701Z"
    }
   },
   "source": [
    "spark= SparkSession.builder.appName('Test').getOrCreate()"
   ],
   "outputs": [
    {
     "name": "stderr",
     "output_type": "stream",
     "text": [
      "WARNING: Using incubator modules: jdk.incubator.vector\n",
      "Using Spark's default log4j profile: org/apache/spark/log4j2-defaults.properties\n",
      "25/10/09 09:28:39 WARN Utils: Your hostname, Gyanas-MacBook-Air.local, resolves to a loopback address: 127.0.0.1; using 192.168.1.5 instead (on interface en0)\n",
      "25/10/09 09:28:39 WARN Utils: Set SPARK_LOCAL_IP if you need to bind to another address\n",
      "Using Spark's default log4j profile: org/apache/spark/log4j2-defaults.properties\n",
      "Setting default log level to \"WARN\".\n",
      "To adjust logging level use sc.setLogLevel(newLevel). For SparkR, use setLogLevel(newLevel).\n",
      "25/10/09 09:28:43 WARN NativeCodeLoader: Unable to load native-hadoop library for your platform... using builtin-java classes where applicable\n"
     ]
    }
   ],
   "execution_count": 3
  },
  {
   "cell_type": "code",
   "id": "949607ae-1731-4384-8f65-0cc8ff4f847c",
   "metadata": {
    "ExecuteTime": {
     "end_time": "2025-10-09T03:59:16.413296Z",
     "start_time": "2025-10-09T03:59:15.355446Z"
    }
   },
   "source": [
    "spark"
   ],
   "outputs": [
    {
     "data": {
      "text/plain": [
       "<pyspark.sql.session.SparkSession at 0x11e6f2270>"
      ],
      "text/html": [
       "\n",
       "            <div>\n",
       "                <p><b>SparkSession - in-memory</b></p>\n",
       "                \n",
       "        <div>\n",
       "            <p><b>SparkContext</b></p>\n",
       "\n",
       "            <p><a href=\"http://192.168.1.5:4040\">Spark UI</a></p>\n",
       "\n",
       "            <dl>\n",
       "              <dt>Version</dt>\n",
       "                <dd><code>v4.0.1</code></dd>\n",
       "              <dt>Master</dt>\n",
       "                <dd><code>local[*]</code></dd>\n",
       "              <dt>AppName</dt>\n",
       "                <dd><code>Test</code></dd>\n",
       "            </dl>\n",
       "        </div>\n",
       "        \n",
       "            </div>\n",
       "        "
      ]
     },
     "execution_count": 4,
     "metadata": {},
     "output_type": "execute_result"
    }
   ],
   "execution_count": 4
  },
  {
   "cell_type": "code",
   "id": "fa893ffb-a097-4b92-8561-c46983a6c404",
   "metadata": {
    "ExecuteTime": {
     "end_time": "2025-10-09T03:59:38.318851Z",
     "start_time": "2025-10-09T03:59:29.451379Z"
    }
   },
   "source": [
    "df_spark=spark.read.option('header','true').option('inferSchema','true').csv('/Users/gyanapradhan/Desktop/Employee_Salary_Dataset.csv')"
   ],
   "outputs": [
    {
     "name": "stderr",
     "output_type": "stream",
     "text": [
      "                                                                                \r"
     ]
    }
   ],
   "execution_count": 5
  },
  {
   "cell_type": "code",
   "execution_count": 31,
   "id": "9f14d0bb-2264-4b06-a6bf-ec799bfa0bd3",
   "metadata": {},
   "outputs": [
    {
     "data": {
      "text/plain": [
       "DataFrame[ID: int, Experience_Years: int, Age: int, Gender: string, Salary: int]"
      ]
     },
     "execution_count": 31,
     "metadata": {},
     "output_type": "execute_result"
    }
   ],
   "source": [
    "df_spark"
   ]
  },
  {
   "cell_type": "code",
   "id": "ea2e9217-e9ec-4493-9265-436f3d4ceda6",
   "metadata": {
    "ExecuteTime": {
     "end_time": "2025-10-09T03:59:44.698003Z",
     "start_time": "2025-10-09T03:59:44.075579Z"
    }
   },
   "source": [
    "df_spark.show()\n"
   ],
   "outputs": [
    {
     "name": "stdout",
     "output_type": "stream",
     "text": [
      "+---+----------------+---+------+-------+\n",
      "| ID|Experience_Years|Age|Gender| Salary|\n",
      "+---+----------------+---+------+-------+\n",
      "|  1|               5| 28|Female| 250000|\n",
      "|  2|               1| 21|  Male|  50000|\n",
      "|  3|               3| 23|Female| 170000|\n",
      "|  4|               2| 22|  Male|  25000|\n",
      "|  5|               1| 17|  Male|  10000|\n",
      "|  6|              25| 62|  Male|5001000|\n",
      "|  7|              19| 54|Female| 800000|\n",
      "|  8|               2| 21|Female|   9000|\n",
      "|  9|              10| 36|Female|  61500|\n",
      "| 10|              15| 54|Female| 650000|\n",
      "| 11|               4| 26|Female| 250000|\n",
      "| 12|               6| 29|  Male|1400000|\n",
      "| 13|              14| 39|  Male|6000050|\n",
      "| 14|              11| 40|  Male| 220100|\n",
      "| 15|               2| 23|  Male|   7500|\n",
      "| 16|               4| 27|Female|  87000|\n",
      "| 17|              10| 34|Female| 930000|\n",
      "| 18|              15| 54|Female|7900000|\n",
      "| 19|               2| 21|  Male|  15000|\n",
      "| 20|              10| 36|  Male| 330000|\n",
      "+---+----------------+---+------+-------+\n",
      "only showing top 20 rows\n"
     ]
    }
   ],
   "execution_count": 6
  },
  {
   "metadata": {
    "ExecuteTime": {
     "end_time": "2025-10-09T04:03:06.604196Z",
     "start_time": "2025-10-09T04:03:05.990793Z"
    }
   },
   "cell_type": "code",
   "source": [
    "import  matplotlib.pyplot as plt\n",
    "#%matplotlib inline\n",
    "#plt.scatter(df_spark[\"Experience_Years\"],df_spark[\"Salary\"],color='red',marker='+')"
   ],
   "id": "137765227a129ee0",
   "outputs": [
    {
     "ename": "TypeError",
     "evalue": "'Column' object is not callable",
     "output_type": "error",
     "traceback": [
      "\u001B[31m---------------------------------------------------------------------------\u001B[39m",
      "\u001B[31mTypeError\u001B[39m                                 Traceback (most recent call last)",
      "\u001B[36mCell\u001B[39m\u001B[36m \u001B[39m\u001B[32mIn[11]\u001B[39m\u001B[32m, line 3\u001B[39m\n\u001B[32m      1\u001B[39m \u001B[38;5;28;01mimport\u001B[39;00m\u001B[38;5;250m  \u001B[39m\u001B[34;01mmatplotlib\u001B[39;00m\u001B[34;01m.\u001B[39;00m\u001B[34;01mpyplot\u001B[39;00m\u001B[38;5;250m \u001B[39m\u001B[38;5;28;01mas\u001B[39;00m\u001B[38;5;250m \u001B[39m\u001B[34;01mplt\u001B[39;00m\n\u001B[32m      2\u001B[39m get_ipython().run_line_magic(\u001B[33m'\u001B[39m\u001B[33mmatplotlib\u001B[39m\u001B[33m'\u001B[39m, \u001B[33m'\u001B[39m\u001B[33minline\u001B[39m\u001B[33m'\u001B[39m)\n\u001B[32m----> \u001B[39m\u001B[32m3\u001B[39m \u001B[43mplt\u001B[49m\u001B[43m.\u001B[49m\u001B[43mscatter\u001B[49m\u001B[43m(\u001B[49m\u001B[43mdf_spark\u001B[49m\u001B[43m[\u001B[49m\u001B[33;43m\"\u001B[39;49m\u001B[33;43mExperience_Years\u001B[39;49m\u001B[33;43m\"\u001B[39;49m\u001B[43m]\u001B[49m\u001B[43m,\u001B[49m\u001B[43mdf_spark\u001B[49m\u001B[43m[\u001B[49m\u001B[33;43m\"\u001B[39;49m\u001B[33;43mSalary\u001B[39;49m\u001B[33;43m\"\u001B[39;49m\u001B[43m]\u001B[49m\u001B[43m,\u001B[49m\u001B[43mcolor\u001B[49m\u001B[43m=\u001B[49m\u001B[33;43m'\u001B[39;49m\u001B[33;43mred\u001B[39;49m\u001B[33;43m'\u001B[39;49m\u001B[43m,\u001B[49m\u001B[43mmarker\u001B[49m\u001B[43m=\u001B[49m\u001B[33;43m'\u001B[39;49m\u001B[33;43m+\u001B[39;49m\u001B[33;43m'\u001B[39;49m\u001B[43m)\u001B[49m\n",
      "\u001B[36mFile \u001B[39m\u001B[32m~/PyCharmMiscProject/.venv/lib/python3.13/site-packages/matplotlib/_api/deprecation.py:453\u001B[39m, in \u001B[36mmake_keyword_only.<locals>.wrapper\u001B[39m\u001B[34m(*args, **kwargs)\u001B[39m\n\u001B[32m    447\u001B[39m \u001B[38;5;28;01mif\u001B[39;00m \u001B[38;5;28mlen\u001B[39m(args) > name_idx:\n\u001B[32m    448\u001B[39m     warn_deprecated(\n\u001B[32m    449\u001B[39m         since, message=\u001B[33m\"\u001B[39m\u001B[33mPassing the \u001B[39m\u001B[38;5;132;01m%(name)s\u001B[39;00m\u001B[33m \u001B[39m\u001B[38;5;132;01m%(obj_type)s\u001B[39;00m\u001B[33m \u001B[39m\u001B[33m\"\u001B[39m\n\u001B[32m    450\u001B[39m         \u001B[33m\"\u001B[39m\u001B[33mpositionally is deprecated since Matplotlib \u001B[39m\u001B[38;5;132;01m%(since)s\u001B[39;00m\u001B[33m; the \u001B[39m\u001B[33m\"\u001B[39m\n\u001B[32m    451\u001B[39m         \u001B[33m\"\u001B[39m\u001B[33mparameter will become keyword-only in \u001B[39m\u001B[38;5;132;01m%(removal)s\u001B[39;00m\u001B[33m.\u001B[39m\u001B[33m\"\u001B[39m,\n\u001B[32m    452\u001B[39m         name=name, obj_type=\u001B[33mf\u001B[39m\u001B[33m\"\u001B[39m\u001B[33mparameter of \u001B[39m\u001B[38;5;132;01m{\u001B[39;00mfunc.\u001B[34m__name__\u001B[39m\u001B[38;5;132;01m}\u001B[39;00m\u001B[33m()\u001B[39m\u001B[33m\"\u001B[39m)\n\u001B[32m--> \u001B[39m\u001B[32m453\u001B[39m \u001B[38;5;28;01mreturn\u001B[39;00m \u001B[43mfunc\u001B[49m\u001B[43m(\u001B[49m\u001B[43m*\u001B[49m\u001B[43margs\u001B[49m\u001B[43m,\u001B[49m\u001B[43m \u001B[49m\u001B[43m*\u001B[49m\u001B[43m*\u001B[49m\u001B[43mkwargs\u001B[49m\u001B[43m)\u001B[49m\n",
      "\u001B[36mFile \u001B[39m\u001B[32m~/PyCharmMiscProject/.venv/lib/python3.13/site-packages/matplotlib/pyplot.py:3948\u001B[39m, in \u001B[36mscatter\u001B[39m\u001B[34m(x, y, s, c, marker, cmap, norm, vmin, vmax, alpha, linewidths, edgecolors, colorizer, plotnonfinite, data, **kwargs)\u001B[39m\n\u001B[32m   3928\u001B[39m \u001B[38;5;129m@_copy_docstring_and_deprecators\u001B[39m(Axes.scatter)\n\u001B[32m   3929\u001B[39m \u001B[38;5;28;01mdef\u001B[39;00m\u001B[38;5;250m \u001B[39m\u001B[34mscatter\u001B[39m(\n\u001B[32m   3930\u001B[39m     x: \u001B[38;5;28mfloat\u001B[39m | ArrayLike,\n\u001B[32m   (...)\u001B[39m\u001B[32m   3946\u001B[39m     **kwargs,\n\u001B[32m   3947\u001B[39m ) -> PathCollection:\n\u001B[32m-> \u001B[39m\u001B[32m3948\u001B[39m     __ret = \u001B[43mgca\u001B[49m\u001B[43m(\u001B[49m\u001B[43m)\u001B[49m\u001B[43m.\u001B[49m\u001B[43mscatter\u001B[49m\u001B[43m(\u001B[49m\n\u001B[32m   3949\u001B[39m \u001B[43m        \u001B[49m\u001B[43mx\u001B[49m\u001B[43m,\u001B[49m\n\u001B[32m   3950\u001B[39m \u001B[43m        \u001B[49m\u001B[43my\u001B[49m\u001B[43m,\u001B[49m\n\u001B[32m   3951\u001B[39m \u001B[43m        \u001B[49m\u001B[43ms\u001B[49m\u001B[43m=\u001B[49m\u001B[43ms\u001B[49m\u001B[43m,\u001B[49m\n\u001B[32m   3952\u001B[39m \u001B[43m        \u001B[49m\u001B[43mc\u001B[49m\u001B[43m=\u001B[49m\u001B[43mc\u001B[49m\u001B[43m,\u001B[49m\n\u001B[32m   3953\u001B[39m \u001B[43m        \u001B[49m\u001B[43mmarker\u001B[49m\u001B[43m=\u001B[49m\u001B[43mmarker\u001B[49m\u001B[43m,\u001B[49m\n\u001B[32m   3954\u001B[39m \u001B[43m        \u001B[49m\u001B[43mcmap\u001B[49m\u001B[43m=\u001B[49m\u001B[43mcmap\u001B[49m\u001B[43m,\u001B[49m\n\u001B[32m   3955\u001B[39m \u001B[43m        \u001B[49m\u001B[43mnorm\u001B[49m\u001B[43m=\u001B[49m\u001B[43mnorm\u001B[49m\u001B[43m,\u001B[49m\n\u001B[32m   3956\u001B[39m \u001B[43m        \u001B[49m\u001B[43mvmin\u001B[49m\u001B[43m=\u001B[49m\u001B[43mvmin\u001B[49m\u001B[43m,\u001B[49m\n\u001B[32m   3957\u001B[39m \u001B[43m        \u001B[49m\u001B[43mvmax\u001B[49m\u001B[43m=\u001B[49m\u001B[43mvmax\u001B[49m\u001B[43m,\u001B[49m\n\u001B[32m   3958\u001B[39m \u001B[43m        \u001B[49m\u001B[43malpha\u001B[49m\u001B[43m=\u001B[49m\u001B[43malpha\u001B[49m\u001B[43m,\u001B[49m\n\u001B[32m   3959\u001B[39m \u001B[43m        \u001B[49m\u001B[43mlinewidths\u001B[49m\u001B[43m=\u001B[49m\u001B[43mlinewidths\u001B[49m\u001B[43m,\u001B[49m\n\u001B[32m   3960\u001B[39m \u001B[43m        \u001B[49m\u001B[43medgecolors\u001B[49m\u001B[43m=\u001B[49m\u001B[43medgecolors\u001B[49m\u001B[43m,\u001B[49m\n\u001B[32m   3961\u001B[39m \u001B[43m        \u001B[49m\u001B[43mcolorizer\u001B[49m\u001B[43m=\u001B[49m\u001B[43mcolorizer\u001B[49m\u001B[43m,\u001B[49m\n\u001B[32m   3962\u001B[39m \u001B[43m        \u001B[49m\u001B[43mplotnonfinite\u001B[49m\u001B[43m=\u001B[49m\u001B[43mplotnonfinite\u001B[49m\u001B[43m,\u001B[49m\n\u001B[32m   3963\u001B[39m \u001B[43m        \u001B[49m\u001B[43m*\u001B[49m\u001B[43m*\u001B[49m\u001B[43m(\u001B[49m\u001B[43m{\u001B[49m\u001B[33;43m\"\u001B[39;49m\u001B[33;43mdata\u001B[39;49m\u001B[33;43m\"\u001B[39;49m\u001B[43m:\u001B[49m\u001B[43m \u001B[49m\u001B[43mdata\u001B[49m\u001B[43m}\u001B[49m\u001B[43m \u001B[49m\u001B[38;5;28;43;01mif\u001B[39;49;00m\u001B[43m \u001B[49m\u001B[43mdata\u001B[49m\u001B[43m \u001B[49m\u001B[38;5;129;43;01mis\u001B[39;49;00m\u001B[43m \u001B[49m\u001B[38;5;129;43;01mnot\u001B[39;49;00m\u001B[43m \u001B[49m\u001B[38;5;28;43;01mNone\u001B[39;49;00m\u001B[43m \u001B[49m\u001B[38;5;28;43;01melse\u001B[39;49;00m\u001B[43m \u001B[49m\u001B[43m{\u001B[49m\u001B[43m}\u001B[49m\u001B[43m)\u001B[49m\u001B[43m,\u001B[49m\n\u001B[32m   3964\u001B[39m \u001B[43m        \u001B[49m\u001B[43m*\u001B[49m\u001B[43m*\u001B[49m\u001B[43mkwargs\u001B[49m\u001B[43m,\u001B[49m\n\u001B[32m   3965\u001B[39m \u001B[43m    \u001B[49m\u001B[43m)\u001B[49m\n\u001B[32m   3966\u001B[39m     sci(__ret)\n\u001B[32m   3967\u001B[39m     \u001B[38;5;28;01mreturn\u001B[39;00m __ret\n",
      "\u001B[36mFile \u001B[39m\u001B[32m~/PyCharmMiscProject/.venv/lib/python3.13/site-packages/matplotlib/_api/deprecation.py:453\u001B[39m, in \u001B[36mmake_keyword_only.<locals>.wrapper\u001B[39m\u001B[34m(*args, **kwargs)\u001B[39m\n\u001B[32m    447\u001B[39m \u001B[38;5;28;01mif\u001B[39;00m \u001B[38;5;28mlen\u001B[39m(args) > name_idx:\n\u001B[32m    448\u001B[39m     warn_deprecated(\n\u001B[32m    449\u001B[39m         since, message=\u001B[33m\"\u001B[39m\u001B[33mPassing the \u001B[39m\u001B[38;5;132;01m%(name)s\u001B[39;00m\u001B[33m \u001B[39m\u001B[38;5;132;01m%(obj_type)s\u001B[39;00m\u001B[33m \u001B[39m\u001B[33m\"\u001B[39m\n\u001B[32m    450\u001B[39m         \u001B[33m\"\u001B[39m\u001B[33mpositionally is deprecated since Matplotlib \u001B[39m\u001B[38;5;132;01m%(since)s\u001B[39;00m\u001B[33m; the \u001B[39m\u001B[33m\"\u001B[39m\n\u001B[32m    451\u001B[39m         \u001B[33m\"\u001B[39m\u001B[33mparameter will become keyword-only in \u001B[39m\u001B[38;5;132;01m%(removal)s\u001B[39;00m\u001B[33m.\u001B[39m\u001B[33m\"\u001B[39m,\n\u001B[32m    452\u001B[39m         name=name, obj_type=\u001B[33mf\u001B[39m\u001B[33m\"\u001B[39m\u001B[33mparameter of \u001B[39m\u001B[38;5;132;01m{\u001B[39;00mfunc.\u001B[34m__name__\u001B[39m\u001B[38;5;132;01m}\u001B[39;00m\u001B[33m()\u001B[39m\u001B[33m\"\u001B[39m)\n\u001B[32m--> \u001B[39m\u001B[32m453\u001B[39m \u001B[38;5;28;01mreturn\u001B[39;00m \u001B[43mfunc\u001B[49m\u001B[43m(\u001B[49m\u001B[43m*\u001B[49m\u001B[43margs\u001B[49m\u001B[43m,\u001B[49m\u001B[43m \u001B[49m\u001B[43m*\u001B[49m\u001B[43m*\u001B[49m\u001B[43mkwargs\u001B[49m\u001B[43m)\u001B[49m\n",
      "\u001B[36mFile \u001B[39m\u001B[32m~/PyCharmMiscProject/.venv/lib/python3.13/site-packages/matplotlib/__init__.py:1524\u001B[39m, in \u001B[36m_preprocess_data.<locals>.inner\u001B[39m\u001B[34m(ax, data, *args, **kwargs)\u001B[39m\n\u001B[32m   1521\u001B[39m \u001B[38;5;129m@functools\u001B[39m.wraps(func)\n\u001B[32m   1522\u001B[39m \u001B[38;5;28;01mdef\u001B[39;00m\u001B[38;5;250m \u001B[39m\u001B[34minner\u001B[39m(ax, *args, data=\u001B[38;5;28;01mNone\u001B[39;00m, **kwargs):\n\u001B[32m   1523\u001B[39m     \u001B[38;5;28;01mif\u001B[39;00m data \u001B[38;5;129;01mis\u001B[39;00m \u001B[38;5;28;01mNone\u001B[39;00m:\n\u001B[32m-> \u001B[39m\u001B[32m1524\u001B[39m         \u001B[38;5;28;01mreturn\u001B[39;00m \u001B[43mfunc\u001B[49m\u001B[43m(\u001B[49m\n\u001B[32m   1525\u001B[39m \u001B[43m            \u001B[49m\u001B[43max\u001B[49m\u001B[43m,\u001B[49m\n\u001B[32m   1526\u001B[39m \u001B[43m            \u001B[49m\u001B[43m*\u001B[49m\u001B[38;5;28;43mmap\u001B[39;49m\u001B[43m(\u001B[49m\u001B[43mcbook\u001B[49m\u001B[43m.\u001B[49m\u001B[43msanitize_sequence\u001B[49m\u001B[43m,\u001B[49m\u001B[43m \u001B[49m\u001B[43margs\u001B[49m\u001B[43m)\u001B[49m\u001B[43m,\u001B[49m\n\u001B[32m   1527\u001B[39m \u001B[43m            \u001B[49m\u001B[43m*\u001B[49m\u001B[43m*\u001B[49m\u001B[43m{\u001B[49m\u001B[43mk\u001B[49m\u001B[43m:\u001B[49m\u001B[43m \u001B[49m\u001B[43mcbook\u001B[49m\u001B[43m.\u001B[49m\u001B[43msanitize_sequence\u001B[49m\u001B[43m(\u001B[49m\u001B[43mv\u001B[49m\u001B[43m)\u001B[49m\u001B[43m \u001B[49m\u001B[38;5;28;43;01mfor\u001B[39;49;00m\u001B[43m \u001B[49m\u001B[43mk\u001B[49m\u001B[43m,\u001B[49m\u001B[43m \u001B[49m\u001B[43mv\u001B[49m\u001B[43m \u001B[49m\u001B[38;5;129;43;01min\u001B[39;49;00m\u001B[43m \u001B[49m\u001B[43mkwargs\u001B[49m\u001B[43m.\u001B[49m\u001B[43mitems\u001B[49m\u001B[43m(\u001B[49m\u001B[43m)\u001B[49m\u001B[43m}\u001B[49m\u001B[43m)\u001B[49m\n\u001B[32m   1529\u001B[39m     bound = new_sig.bind(ax, *args, **kwargs)\n\u001B[32m   1530\u001B[39m     auto_label = (bound.arguments.get(label_namer)\n\u001B[32m   1531\u001B[39m                   \u001B[38;5;129;01mor\u001B[39;00m bound.kwargs.get(label_namer))\n",
      "\u001B[36mFile \u001B[39m\u001B[32m~/PyCharmMiscProject/.venv/lib/python3.13/site-packages/matplotlib/axes/_axes.py:4930\u001B[39m, in \u001B[36mAxes.scatter\u001B[39m\u001B[34m(self, x, y, s, c, marker, cmap, norm, vmin, vmax, alpha, linewidths, edgecolors, colorizer, plotnonfinite, **kwargs)\u001B[39m\n\u001B[32m   4928\u001B[39m edgecolors = kwargs.pop(\u001B[33m'\u001B[39m\u001B[33medgecolor\u001B[39m\u001B[33m'\u001B[39m, \u001B[38;5;28;01mNone\u001B[39;00m)\n\u001B[32m   4929\u001B[39m \u001B[38;5;66;03m# Process **kwargs to handle aliases, conflicts with explicit kwargs:\u001B[39;00m\n\u001B[32m-> \u001B[39m\u001B[32m4930\u001B[39m x, y = \u001B[38;5;28;43mself\u001B[39;49m\u001B[43m.\u001B[49m\u001B[43m_process_unit_info\u001B[49m\u001B[43m(\u001B[49m\u001B[43m[\u001B[49m\u001B[43m(\u001B[49m\u001B[33;43m\"\u001B[39;49m\u001B[33;43mx\u001B[39;49m\u001B[33;43m\"\u001B[39;49m\u001B[43m,\u001B[49m\u001B[43m \u001B[49m\u001B[43mx\u001B[49m\u001B[43m)\u001B[49m\u001B[43m,\u001B[49m\u001B[43m \u001B[49m\u001B[43m(\u001B[49m\u001B[33;43m\"\u001B[39;49m\u001B[33;43my\u001B[39;49m\u001B[33;43m\"\u001B[39;49m\u001B[43m,\u001B[49m\u001B[43m \u001B[49m\u001B[43my\u001B[49m\u001B[43m)\u001B[49m\u001B[43m]\u001B[49m\u001B[43m,\u001B[49m\u001B[43m \u001B[49m\u001B[43mkwargs\u001B[49m\u001B[43m)\u001B[49m\n\u001B[32m   4931\u001B[39m \u001B[38;5;66;03m# np.ma.ravel yields an ndarray, not a masked array,\u001B[39;00m\n\u001B[32m   4932\u001B[39m \u001B[38;5;66;03m# unless its argument is a masked array.\u001B[39;00m\n\u001B[32m   4933\u001B[39m x = np.ma.ravel(x)\n",
      "\u001B[36mFile \u001B[39m\u001B[32m~/PyCharmMiscProject/.venv/lib/python3.13/site-packages/matplotlib/axes/_base.py:2663\u001B[39m, in \u001B[36m_AxesBase._process_unit_info\u001B[39m\u001B[34m(self, datasets, kwargs, convert)\u001B[39m\n\u001B[32m   2661\u001B[39m     \u001B[38;5;66;03m# Update from data if axis is already set but no unit is set yet.\u001B[39;00m\n\u001B[32m   2662\u001B[39m     \u001B[38;5;28;01mif\u001B[39;00m axis \u001B[38;5;129;01mis\u001B[39;00m \u001B[38;5;129;01mnot\u001B[39;00m \u001B[38;5;28;01mNone\u001B[39;00m \u001B[38;5;129;01mand\u001B[39;00m data \u001B[38;5;129;01mis\u001B[39;00m \u001B[38;5;129;01mnot\u001B[39;00m \u001B[38;5;28;01mNone\u001B[39;00m \u001B[38;5;129;01mand\u001B[39;00m \u001B[38;5;129;01mnot\u001B[39;00m axis.have_units():\n\u001B[32m-> \u001B[39m\u001B[32m2663\u001B[39m         \u001B[43maxis\u001B[49m\u001B[43m.\u001B[49m\u001B[43mupdate_units\u001B[49m\u001B[43m(\u001B[49m\u001B[43mdata\u001B[49m\u001B[43m)\u001B[49m\n\u001B[32m   2664\u001B[39m \u001B[38;5;28;01mfor\u001B[39;00m axis_name, axis \u001B[38;5;129;01min\u001B[39;00m axis_map.items():\n\u001B[32m   2665\u001B[39m     \u001B[38;5;66;03m# Return if no axis is set.\u001B[39;00m\n\u001B[32m   2666\u001B[39m     \u001B[38;5;28;01mif\u001B[39;00m axis \u001B[38;5;129;01mis\u001B[39;00m \u001B[38;5;28;01mNone\u001B[39;00m:\n",
      "\u001B[36mFile \u001B[39m\u001B[32m~/PyCharmMiscProject/.venv/lib/python3.13/site-packages/matplotlib/axis.py:1745\u001B[39m, in \u001B[36mAxis.update_units\u001B[39m\u001B[34m(self, data)\u001B[39m\n\u001B[32m   1739\u001B[39m \u001B[38;5;250m\u001B[39m\u001B[33;03m\"\"\"\u001B[39;00m\n\u001B[32m   1740\u001B[39m \u001B[33;03mIntrospect *data* for units converter and update the\u001B[39;00m\n\u001B[32m   1741\u001B[39m \u001B[33;03m``axis.get_converter`` instance if necessary. Return *True*\u001B[39;00m\n\u001B[32m   1742\u001B[39m \u001B[33;03mif *data* is registered for unit conversion.\u001B[39;00m\n\u001B[32m   1743\u001B[39m \u001B[33;03m\"\"\"\u001B[39;00m\n\u001B[32m   1744\u001B[39m \u001B[38;5;28;01mif\u001B[39;00m \u001B[38;5;129;01mnot\u001B[39;00m \u001B[38;5;28mself\u001B[39m._converter_is_explicit:\n\u001B[32m-> \u001B[39m\u001B[32m1745\u001B[39m     converter = \u001B[43mmunits\u001B[49m\u001B[43m.\u001B[49m\u001B[43mregistry\u001B[49m\u001B[43m.\u001B[49m\u001B[43mget_converter\u001B[49m\u001B[43m(\u001B[49m\u001B[43mdata\u001B[49m\u001B[43m)\u001B[49m\n\u001B[32m   1746\u001B[39m \u001B[38;5;28;01melse\u001B[39;00m:\n\u001B[32m   1747\u001B[39m     converter = \u001B[38;5;28mself\u001B[39m._converter\n",
      "\u001B[36mFile \u001B[39m\u001B[32m~/PyCharmMiscProject/.venv/lib/python3.13/site-packages/matplotlib/units.py:167\u001B[39m, in \u001B[36mRegistry.get_converter\u001B[39m\u001B[34m(self, x)\u001B[39m\n\u001B[32m    165\u001B[39m \u001B[38;5;250m\u001B[39m\u001B[33;03m\"\"\"Get the converter interface instance for *x*, or None.\"\"\"\u001B[39;00m\n\u001B[32m    166\u001B[39m \u001B[38;5;66;03m# Unpack in case of e.g. Pandas or xarray object\u001B[39;00m\n\u001B[32m--> \u001B[39m\u001B[32m167\u001B[39m x = \u001B[43mcbook\u001B[49m\u001B[43m.\u001B[49m\u001B[43m_unpack_to_numpy\u001B[49m\u001B[43m(\u001B[49m\u001B[43mx\u001B[49m\u001B[43m)\u001B[49m\n\u001B[32m    169\u001B[39m \u001B[38;5;28;01mif\u001B[39;00m \u001B[38;5;28misinstance\u001B[39m(x, np.ndarray):\n\u001B[32m    170\u001B[39m     \u001B[38;5;66;03m# In case x in a masked array, access the underlying data (only its\u001B[39;00m\n\u001B[32m    171\u001B[39m     \u001B[38;5;66;03m# type matters).  If x is a regular ndarray, getdata() just returns\u001B[39;00m\n\u001B[32m    172\u001B[39m     \u001B[38;5;66;03m# the array itself.\u001B[39;00m\n\u001B[32m    173\u001B[39m     x = np.ma.getdata(x).ravel()\n",
      "\u001B[36mFile \u001B[39m\u001B[32m~/PyCharmMiscProject/.venv/lib/python3.13/site-packages/matplotlib/cbook.py:2375\u001B[39m, in \u001B[36m_unpack_to_numpy\u001B[39m\u001B[34m(x)\u001B[39m\n\u001B[32m   2372\u001B[39m     \u001B[38;5;28;01mreturn\u001B[39;00m x\n\u001B[32m   2373\u001B[39m \u001B[38;5;28;01mif\u001B[39;00m \u001B[38;5;28mhasattr\u001B[39m(x, \u001B[33m'\u001B[39m\u001B[33mto_numpy\u001B[39m\u001B[33m'\u001B[39m):\n\u001B[32m   2374\u001B[39m     \u001B[38;5;66;03m# Assume that any to_numpy() method actually returns a numpy array\u001B[39;00m\n\u001B[32m-> \u001B[39m\u001B[32m2375\u001B[39m     \u001B[38;5;28;01mreturn\u001B[39;00m \u001B[43mx\u001B[49m\u001B[43m.\u001B[49m\u001B[43mto_numpy\u001B[49m\u001B[43m(\u001B[49m\u001B[43m)\u001B[49m\n\u001B[32m   2376\u001B[39m \u001B[38;5;28;01mif\u001B[39;00m \u001B[38;5;28mhasattr\u001B[39m(x, \u001B[33m'\u001B[39m\u001B[33mvalues\u001B[39m\u001B[33m'\u001B[39m):\n\u001B[32m   2377\u001B[39m     xtmp = x.values\n",
      "\u001B[31mTypeError\u001B[39m: 'Column' object is not callable"
     ]
    },
    {
     "data": {
      "text/plain": [
       "<Figure size 640x480 with 1 Axes>"
      ],
      "image/png": "[encoded data removed]"
     },
     "metadata": {},
     "output_type": "display_data",
     "jetTransient": {
      "display_id": null
     }
    }
   ],
   "execution_count": 11
  },
  {
   "cell_type": "code",
   "execution_count": 36,
   "id": "1c4185b0-4a05-4326-9baf-570fd6a460c0",
   "metadata": {},
   "outputs": [
    {
     "name": "stdout",
     "output_type": "stream",
     "text": [
      "root\n",
      " |-- ID: integer (nullable = true)\n",
      " |-- Experience_Years: integer (nullable = true)\n",
      " |-- Age: integer (nullable = true)\n",
      " |-- Gender: string (nullable = true)\n",
      " |-- Salary: integer (nullable = true)\n",
      "\n"
     ]
    }
   ],
   "source": [
    "df_spark.printSchema()"
   ]
  },
  {
   "cell_type": "code",
   "execution_count": 37,
   "id": "de11671e-7ae5-43a4-83bd-1e490e4301fb",
   "metadata": {},
   "outputs": [
    {
     "name": "stdout",
     "output_type": "stream",
     "text": [
      "DataFrame[ID: int, Experience_Years: int, Age: int, Gender: string, Salary: int]\n"
     ]
    }
   ],
   "source": [
    "print (df_spark)"
   ]
  },
  {
   "cell_type": "code",
   "execution_count": 45,
   "id": "8b07aa0c-7bd1-4e1d-9a2f-3ec2c18b0077",
   "metadata": {},
   "outputs": [],
   "source": [
    "df_pyspark= spark.read.csv(\"/Users/gyanapradhan/Desktop/Employee_Salary_Dataset.csv\", header=True,inferSchema=True)"
   ]
  },
  {
   "cell_type": "code",
   "execution_count": 53,
   "id": "095c39ca-ab08-40ee-b143-baa1af044728",
   "metadata": {},
   "outputs": [],
   "source": [
    "df_spark=spark.read.option('header','True').option('inferSchema','True').csv(\"/Users/gyanapradhan/Desktop/Employee_Salary_Dataset.csv\")"
   ]
  },
  {
   "cell_type": "code",
   "execution_count": 47,
   "id": "b80d1a98-1a8f-4d47-bcc8-0b8c18b70cfe",
   "metadata": {},
   "outputs": [
    {
     "data": {
      "text/plain": [
       "pyspark.sql.classic.dataframe.DataFrame"
      ]
     },
     "execution_count": 47,
     "metadata": {},
     "output_type": "execute_result"
    }
   ],
   "source": [
    "type(df_spark)"
   ]
  },
  {
   "cell_type": "code",
   "execution_count": 49,
   "id": "f7c45fa1-bd21-459f-8a73-a0355e5359f2",
   "metadata": {},
   "outputs": [
    {
     "data": {
      "text/html": [
       "\n",
       "            <div>\n",
       "                <p><b>SparkSession - in-memory</b></p>\n",
       "                \n",
       "        <div>\n",
       "            <p><b>SparkContext</b></p>\n",
       "\n",
       "            <p><a href=\"http://192.168.1.2:4040\">Spark UI</a></p>\n",
       "\n",
       "            <dl>\n",
       "              <dt>Version</dt>\n",
       "                <dd><code>v4.0.1</code></dd>\n",
       "              <dt>Master</dt>\n",
       "                <dd><code>local[*]</code></dd>\n",
       "              <dt>AppName</dt>\n",
       "                <dd><code>Test</code></dd>\n",
       "            </dl>\n",
       "        </div>\n",
       "        \n",
       "            </div>\n",
       "        "
      ],
      "text/plain": [
       "<pyspark.sql.session.SparkSession at 0x1206de660>"
      ]
     },
     "execution_count": 49,
     "metadata": {},
     "output_type": "execute_result"
    }
   ],
   "source": [
    "spark"
   ]
  },
  {
   "cell_type": "code",
   "execution_count": 54,
   "id": "3f8e470f-f73d-48f7-b4da-a0f92e0b9093",
   "metadata": {},
   "outputs": [
    {
     "name": "stdout",
     "output_type": "stream",
     "text": [
      "+---+----------------+---+------+-------+\n",
      "| ID|Experience_Years|Age|Gender| Salary|\n",
      "+---+----------------+---+------+-------+\n",
      "|  1|               5| 28|Female| 250000|\n",
      "|  2|               1| 21|  Male|  50000|\n",
      "|  3|               3| 23|Female| 170000|\n",
      "|  4|               2| 22|  Male|  25000|\n",
      "|  5|               1| 17|  Male|  10000|\n",
      "|  6|              25| 62|  Male|5001000|\n",
      "|  7|              19| 54|Female| 800000|\n",
      "|  8|               2| 21|Female|   9000|\n",
      "|  9|              10| 36|Female|  61500|\n",
      "| 10|              15| 54|Female| 650000|\n",
      "| 11|               4| 26|Female| 250000|\n",
      "| 12|               6| 29|  Male|1400000|\n",
      "| 13|              14| 39|  Male|6000050|\n",
      "| 14|              11| 40|  Male| 220100|\n",
      "| 15|               2| 23|  Male|   7500|\n",
      "| 16|               4| 27|Female|  87000|\n",
      "| 17|              10| 34|Female| 930000|\n",
      "| 18|              15| 54|Female|7900000|\n",
      "| 19|               2| 21|  Male|  15000|\n",
      "| 20|              10| 36|  Male| 330000|\n",
      "+---+----------------+---+------+-------+\n",
      "only showing top 20 rows\n"
     ]
    }
   ],
   "source": [
    "df_spark.show()\n"
   ]
  },
  {
   "cell_type": "code",
   "execution_count": 609,
   "id": "23d8df5d-7f25-44f2-aec8-6b41e2bae2ad",
   "metadata": {},
   "outputs": [
    {
     "name": "stdout",
     "output_type": "stream",
     "text": [
      "+---+----------------+---+------+------+\n",
      "|ID |Experience_Years|Age|Gender|Salary|\n",
      "+---+----------------+---+------+------+\n",
      "|1  |5               |28 |Female|250000|\n",
      "|2  |1               |21 |Male  |50000 |\n",
      "+---+----------------+---+------+------+\n",
      "only showing top 2 rows\n"
     ]
    }
   ],
   "source": [
    "df_spark.show(2, truncate=False)"
   ]
  },
  {
   "cell_type": "code",
   "execution_count": 107,
   "id": "a43b4cbf-3e76-4908-8e40-3863dd718a95",
   "metadata": {},
   "outputs": [],
   "source": [
    "df_sparkM=df_spark.withColumn('Salarywith hike', df_spark['Salary']*1.1)\n"
   ]
  },
  {
   "cell_type": "code",
   "execution_count": 100,
   "id": "2c332dd4-05c7-4224-aab6-372e28ef820f",
   "metadata": {},
   "outputs": [
    {
     "data": {
      "text/plain": [
       "DataFrame[ID: int, Experience_Years: int, Age: int, Gender: string, Salary: int, Salarywith hike: double, office: string]"
      ]
     },
     "execution_count": 100,
     "metadata": {},
     "output_type": "execute_result"
    }
   ],
   "source": [
    "df_sparkM.withColumn('office',df_spark['Gender'])\n"
   ]
  },
  {
   "cell_type": "code",
   "execution_count": 104,
   "id": "05184df7-5063-4d07-b943-c4f7903a1934",
   "metadata": {},
   "outputs": [
    {
     "name": "stdout",
     "output_type": "stream",
     "text": [
      "+---+----------------+---+------+-------+\n",
      "| ID|Experience_Years|Age|Gender| Salary|\n",
      "+---+----------------+---+------+-------+\n",
      "|  1|               5| 28|Female| 250000|\n",
      "|  2|               1| 21|  Male|  50000|\n",
      "|  3|               3| 23|Female| 170000|\n",
      "|  4|               2| 22|  Male|  25000|\n",
      "|  5|               1| 17|  Male|  10000|\n",
      "|  6|              25| 62|  Male|5001000|\n",
      "|  7|              19| 54|Female| 800000|\n",
      "|  8|               2| 21|Female|   9000|\n",
      "|  9|              10| 36|Female|  61500|\n",
      "| 10|              15| 54|Female| 650000|\n",
      "| 11|               4| 26|Female| 250000|\n",
      "| 12|               6| 29|  Male|1400000|\n",
      "| 13|              14| 39|  Male|6000050|\n",
      "| 14|              11| 40|  Male| 220100|\n",
      "| 15|               2| 23|  Male|   7500|\n",
      "| 16|               4| 27|Female|  87000|\n",
      "| 17|              10| 34|Female| 930000|\n",
      "| 18|              15| 54|Female|7900000|\n",
      "| 19|               2| 21|  Male|  15000|\n",
      "| 20|              10| 36|  Male| 330000|\n",
      "+---+----------------+---+------+-------+\n",
      "only showing top 20 rows\n"
     ]
    }
   ],
   "source": [
    "df_sparkM.drop(df_sparkM[\"Salarywith hike\"]).show()"
   ]
  },
  {
   "cell_type": "code",
   "execution_count": 105,
   "id": "f3b0b47e-8707-4fde-b534-e45ff0c2b946",
   "metadata": {},
   "outputs": [
    {
     "name": "stdout",
     "output_type": "stream",
     "text": [
      "+---+----------------+---+------+-------+------------------+\n",
      "| ID|Experience_Years|Age|Gender| Salary|   Salarywith hike|\n",
      "+---+----------------+---+------+-------+------------------+\n",
      "|  1|               5| 28|Female| 250000|          275000.0|\n",
      "|  2|               1| 21|  Male|  50000| 55000.00000000001|\n",
      "|  3|               3| 23|Female| 170000|187000.00000000003|\n",
      "|  4|               2| 22|  Male|  25000|27500.000000000004|\n",
      "|  5|               1| 17|  Male|  10000|           11000.0|\n",
      "|  6|              25| 62|  Male|5001000|         5501100.0|\n",
      "|  7|              19| 54|Female| 800000| 880000.0000000001|\n",
      "|  8|               2| 21|Female|   9000|            9900.0|\n",
      "|  9|              10| 36|Female|  61500|           67650.0|\n",
      "| 10|              15| 54|Female| 650000|          715000.0|\n",
      "| 11|               4| 26|Female| 250000|          275000.0|\n",
      "| 12|               6| 29|  Male|1400000|1540000.0000000002|\n",
      "| 13|              14| 39|  Male|6000050| 6600055.000000001|\n",
      "| 14|              11| 40|  Male| 220100|242110.00000000003|\n",
      "| 15|               2| 23|  Male|   7500|            8250.0|\n",
      "| 16|               4| 27|Female|  87000| 95700.00000000001|\n",
      "| 17|              10| 34|Female| 930000|1023000.0000000001|\n",
      "| 18|              15| 54|Female|7900000|         8690000.0|\n",
      "| 19|               2| 21|  Male|  15000|           16500.0|\n",
      "| 20|              10| 36|  Male| 330000|363000.00000000006|\n",
      "+---+----------------+---+------+-------+------------------+\n",
      "only showing top 20 rows\n"
     ]
    }
   ],
   "source": [
    "df_sparkM.show()"
   ]
  },
  {
   "cell_type": "code",
   "execution_count": 106,
   "id": "7d55e303-87f1-4857-9fa4-38c3c29d2bc1",
   "metadata": {},
   "outputs": [
    {
     "name": "stdout",
     "output_type": "stream",
     "text": [
      "+---+----------------+---+------+-------+\n",
      "| ID|Experience_Years|Age|Gender| Salary|\n",
      "+---+----------------+---+------+-------+\n",
      "|  1|               5| 28|Female| 250000|\n",
      "|  2|               1| 21|  Male|  50000|\n",
      "|  3|               3| 23|Female| 170000|\n",
      "|  4|               2| 22|  Male|  25000|\n",
      "|  5|               1| 17|  Male|  10000|\n",
      "|  6|              25| 62|  Male|5001000|\n",
      "|  7|              19| 54|Female| 800000|\n",
      "|  8|               2| 21|Female|   9000|\n",
      "|  9|              10| 36|Female|  61500|\n",
      "| 10|              15| 54|Female| 650000|\n",
      "| 11|               4| 26|Female| 250000|\n",
      "| 12|               6| 29|  Male|1400000|\n",
      "| 13|              14| 39|  Male|6000050|\n",
      "| 14|              11| 40|  Male| 220100|\n",
      "| 15|               2| 23|  Male|   7500|\n",
      "| 16|               4| 27|Female|  87000|\n",
      "| 17|              10| 34|Female| 930000|\n",
      "| 18|              15| 54|Female|7900000|\n",
      "| 19|               2| 21|  Male|  15000|\n",
      "| 20|              10| 36|  Male| 330000|\n",
      "+---+----------------+---+------+-------+\n",
      "only showing top 20 rows\n"
     ]
    }
   ],
   "source": [
    "df_sparkM.drop(df_sparkM['Salarywith hike']).show()"
   ]
  },
  {
   "cell_type": "code",
   "execution_count": 111,
   "id": "6fa91626-e161-4c84-9132-51ce76c9c139",
   "metadata": {},
   "outputs": [],
   "source": [
    "df= df_spark.join(df_sparkM)"
   ]
  },
  {
   "cell_type": "code",
   "execution_count": 119,
   "id": "832815ac-74ea-4818-9e3d-055341b881ca",
   "metadata": {},
   "outputs": [
    {
     "name": "stdout",
     "output_type": "stream",
     "text": [
      "+---+----------------+---+-------+---+----------------+---+------+---------------+\n",
      "| ID|Experience_Years|Age| Salary| ID|Experience_Years|Age|Salary|Salarywith hike|\n",
      "+---+----------------+---+-------+---+----------------+---+------+---------------+\n",
      "|  1|               5| 28| 250000|  1|               5| 28|250000|       275000.0|\n",
      "|  2|               1| 21|  50000|  1|               5| 28|250000|       275000.0|\n",
      "|  3|               3| 23| 170000|  1|               5| 28|250000|       275000.0|\n",
      "|  4|               2| 22|  25000|  1|               5| 28|250000|       275000.0|\n",
      "|  5|               1| 17|  10000|  1|               5| 28|250000|       275000.0|\n",
      "|  6|              25| 62|5001000|  1|               5| 28|250000|       275000.0|\n",
      "|  7|              19| 54| 800000|  1|               5| 28|250000|       275000.0|\n",
      "|  8|               2| 21|   9000|  1|               5| 28|250000|       275000.0|\n",
      "|  9|              10| 36|  61500|  1|               5| 28|250000|       275000.0|\n",
      "| 10|              15| 54| 650000|  1|               5| 28|250000|       275000.0|\n",
      "| 11|               4| 26| 250000|  1|               5| 28|250000|       275000.0|\n",
      "| 12|               6| 29|1400000|  1|               5| 28|250000|       275000.0|\n",
      "| 13|              14| 39|6000050|  1|               5| 28|250000|       275000.0|\n",
      "| 14|              11| 40| 220100|  1|               5| 28|250000|       275000.0|\n",
      "| 15|               2| 23|   7500|  1|               5| 28|250000|       275000.0|\n",
      "| 16|               4| 27|  87000|  1|               5| 28|250000|       275000.0|\n",
      "| 17|              10| 34| 930000|  1|               5| 28|250000|       275000.0|\n",
      "| 18|              15| 54|7900000|  1|               5| 28|250000|       275000.0|\n",
      "| 19|               2| 21|  15000|  1|               5| 28|250000|       275000.0|\n",
      "| 20|              10| 36| 330000|  1|               5| 28|250000|       275000.0|\n",
      "+---+----------------+---+-------+---+----------------+---+------+---------------+\n",
      "only showing top 20 rows\n"
     ]
    }
   ],
   "source": [
    "df.drop('Gender').show()"
   ]
  },
  {
   "cell_type": "code",
   "execution_count": 120,
   "id": "2c0888cb-c9ef-4e40-867e-f4f722df2c76",
   "metadata": {},
   "outputs": [
    {
     "data": {
      "text/plain": [
       "DataFrame[ID: int, Experience_Years: int, Age: int, Gender: string, Salary: int, ID: int, Experience_Years: int, Age: int, Gender: string, Salary: int, Salarywith hike: double]"
      ]
     },
     "execution_count": 120,
     "metadata": {},
     "output_type": "execute_result"
    }
   ],
   "source": [
    "df.drop(\"Salarywith hike\")"
   ]
  },
  {
   "cell_type": "code",
   "execution_count": 246,
   "id": "feb63be7-849f-4e70-b8ee-6f4fdbbd12b0",
   "metadata": {},
   "outputs": [
    {
     "data": {
      "text/plain": [
       "DataFrame[ID: int, Experience_Years: int, Age: int, Gender: string, Salary: int, NewSalary: double]"
      ]
     },
     "execution_count": 246,
     "metadata": {},
     "output_type": "execute_result"
    }
   ],
   "source": [
    "df_sparkM.withColumnRenamed(\"Salarywith hike\",\"NewSalary\")\n"
   ]
  },
  {
   "cell_type": "code",
   "execution_count": 188,
   "id": "16fcdee2-e4d9-422d-a7fc-bfccf4d194f8",
   "metadata": {},
   "outputs": [
    {
     "name": "stdout",
     "output_type": "stream",
     "text": [
      "+---+----------------+---+------+-------+-----------------+\n",
      "| ID|Experience_Years|Age|Gender| Salary|  Salarywith hike|\n",
      "+---+----------------+---+------+-------+-----------------+\n",
      "|  6|              25| 62|  Male|5001000|        5501100.0|\n",
      "| 21|              15| 54|  Male|6570000|7227000.000000001|\n",
      "| 32|              15| 54|  Male| 900000|990000.0000000001|\n",
      "+---+----------------+---+------+-------+-----------------+\n",
      "\n"
     ]
    }
   ],
   "source": [
    "df_sparkM.filter( \"Salary > 5000 and Gender = 'Male' and Age >50 \").show()"
   ]
  },
  {
   "cell_type": "code",
   "execution_count": 243,
   "id": "26c83dfa-5fe6-471f-917f-da1c4b4c8ab6",
   "metadata": {},
   "outputs": [
    {
     "data": {
      "text/plain": [
       "DataFrame[ID: int, Experience_Years: int, Age: int, Gender: string, Salary: int, Salarywith hike: double]"
      ]
     },
     "execution_count": 243,
     "metadata": {},
     "output_type": "execute_result"
    }
   ],
   "source": [
    "df_sparkM.filter((df_sparkM.Salary >5000)& (df_sparkM.Gender =='Male') & (df_sparkM.Age> 50))"
   ]
  },
  {
   "cell_type": "code",
   "execution_count": 441,
   "id": "2d3af144-504d-4f50-be35-b4aadd4aacd4",
   "metadata": {},
   "outputs": [
    {
     "name": "stdout",
     "output_type": "stream",
     "text": [
      "root\n",
      " |-- ID: integer (nullable = true)\n",
      " |-- Experience_Years: integer (nullable = true)\n",
      " |-- Age: integer (nullable = true)\n",
      " |-- Gender: string (nullable = true)\n",
      " |-- Salary: integer (nullable = true)\n",
      " |-- Salarywith hike: double (nullable = true)\n",
      "\n"
     ]
    }
   ],
   "source": [
    "df_sparkM.printSchema()"
   ]
  },
  {
   "cell_type": "code",
   "execution_count": 269,
   "id": "58ed2dfa-6d16-49be-85f1-7d89da9de0d3",
   "metadata": {},
   "outputs": [
    {
     "name": "stdout",
     "output_type": "stream",
     "text": [
      "+---+----------------+---+------+------+---------------+\n",
      "| ID|Experience_Years|Age|Gender|Salary|Salarywith hike|\n",
      "+---+----------------+---+------+------+---------------+\n",
      "+---+----------------+---+------+------+---------------+\n",
      "\n"
     ]
    }
   ],
   "source": [
    "df_sparkM.filter(df_sparkM.Age.isNull()).show()"
   ]
  },
  {
   "cell_type": "code",
   "execution_count": 357,
   "id": "cb8ad14a-b60d-45f5-af7e-f7c1cd1565e7",
   "metadata": {},
   "outputs": [],
   "source": [
    "\n",
    "df_missV = spark.read.csv(\"/Users/gyanapradhan/Desktop/MissingValue.csv\",header=True,inferSchema=True)"
   ]
  },
  {
   "cell_type": "code",
   "execution_count": 391,
   "id": "51385cd9-69ef-452e-bc8b-e0c23e9128ea",
   "metadata": {},
   "outputs": [
    {
     "name": "stdout",
     "output_type": "stream",
     "text": [
      "+----+---------+------+----------+\n",
      "| age|     Name|Salary|Experience|\n",
      "+----+---------+------+----------+\n",
      "|  31|    Krish| 30000|        10|\n",
      "|  30|Sudhanshu| 25000|         8|\n",
      "|  29|    Sunny| 20000|         4|\n",
      "|  24|     Paul| 20000|         3|\n",
      "|  21|   Harsha| 15000|         1|\n",
      "|  23|  Shubham| 18000|         2|\n",
      "|NULL|   Mahesh| 40000|      NULL|\n",
      "|  34|     NULL| 38000|        10|\n",
      "|  36|     NULL|  NULL|      NULL|\n",
      "+----+---------+------+----------+\n",
      "\n"
     ]
    }
   ],
   "source": [
    "df_missV.select(df_missV.age,df_missV.Name,df_missV.Salary,df_missV.Experience).show()"
   ]
  },
  {
   "cell_type": "code",
   "execution_count": 402,
   "id": "38700d3d-a329-4461-bcc6-e416e98ea891",
   "metadata": {},
   "outputs": [
    {
     "name": "stdout",
     "output_type": "stream",
     "text": [
      "+---------+---+----------+------+\n",
      "|     Name|age|Experience|Salary|\n",
      "+---------+---+----------+------+\n",
      "|    Krish| 31|        10| 30000|\n",
      "|Sudhanshu| 30|         8| 25000|\n",
      "|    Sunny| 29|         4| 20000|\n",
      "|     Paul| 24|         3| 20000|\n",
      "|   Harsha| 21|         1| 15000|\n",
      "|  Shubham| 23|         2| 18000|\n",
      "|     NULL| 34|        10| 38000|\n",
      "+---------+---+----------+------+\n",
      "\n"
     ]
    }
   ],
   "source": [
    "\n",
    "df_missV.na.drop(how='any',subset =['Experience','age'] ).show()\n"
   ]
  },
  {
   "cell_type": "code",
   "execution_count": 406,
   "id": "ef60b85c-f683-49a0-b4d1-3b90cc7c72f7",
   "metadata": {},
   "outputs": [
    {
     "name": "stdout",
     "output_type": "stream",
     "text": [
      "+---------+---+----------+------+\n",
      "|     Name|age|Experience|Salary|\n",
      "+---------+---+----------+------+\n",
      "|    Krish| 31|        10| 30000|\n",
      "|Sudhanshu| 30|         8| 25000|\n",
      "|    Sunny| 29|         4| 20000|\n",
      "|     Paul| 24|         3| 20000|\n",
      "|   Harsha| 21|         1| 15000|\n",
      "|  Shubham| 23|         2| 18000|\n",
      "|   Mahesh| 20|        50| 40000|\n",
      "|  unknown| 34|        10| 38000|\n",
      "|  unknown| 36|        50|  NULL|\n",
      "+---------+---+----------+------+\n",
      "\n"
     ]
    }
   ],
   "source": [
    "df_missV.na.fill({\"age\":20, \"Name\": 'unknown',\"Experience\" :50}).show()\n"
   ]
  },
  {
   "cell_type": "code",
   "execution_count": 414,
   "id": "2a33026f-39fb-46d2-8db1-0d02a50fd7f6",
   "metadata": {},
   "outputs": [
    {
     "name": "stdout",
     "output_type": "stream",
     "text": [
      "+---------+----+----------+------+\n",
      "|     Name| age|Experience|Salary|\n",
      "+---------+----+----------+------+\n",
      "|    Krish|  31|        10| 30000|\n",
      "|Sudhanshu|  30|         8| 25000|\n",
      "|    Sunny|  29|         4| 20000|\n",
      "|     Paul|  24|         3| 20000|\n",
      "|   Harsha|  21|         1| 15000|\n",
      "|  Shubham|  23|         2| 18000|\n",
      "|   Mahesh|NULL|      NULL| 40000|\n",
      "|  unknown|  34|        10| 38000|\n",
      "|  unknown|  36|      NULL|  NULL|\n",
      "+---------+----+----------+------+\n",
      "\n"
     ]
    }
   ],
   "source": [
    "df_missV.na.fill(value='unknown',subset=['Name','age','Experience']).show()"
   ]
  },
  {
   "cell_type": "code",
   "execution_count": 439,
   "id": "b3bc4972-511b-4620-8c70-a27a375fd355",
   "metadata": {},
   "outputs": [],
   "source": [
    "from pyspark.ml.feature import Imputer\n",
    "imput=Imputer(inputCols=['age','Experience','Salary'],\n",
    "             outputCols=[\"{}_imputed\".format(i)for i in['age','Experience','Salary']]).setStrategy('mean')"
   ]
  },
  {
   "cell_type": "code",
   "execution_count": 542,
   "id": "3ba9abe4-deb9-49b6-83d6-4e24898fd172",
   "metadata": {},
   "outputs": [],
   "source": [
    "df_train= imput.fit(df_missV).transform(df_missV)"
   ]
  },
  {
   "cell_type": "code",
   "execution_count": 460,
   "id": "82b0b9b8-52dc-468e-9b38-423588b479ff",
   "metadata": {},
   "outputs": [
    {
     "name": "stdout",
     "output_type": "stream",
     "text": [
      "+---------+--------+-----------+\n",
      "|     Name|max(age)|max(Salary)|\n",
      "+---------+--------+-----------+\n",
      "|     NULL|      36|      38000|\n",
      "|Sudhanshu|      30|      25000|\n",
      "|    Sunny|      29|      20000|\n",
      "|    Krish|      31|      30000|\n",
      "|   Harsha|      21|      15000|\n",
      "|     Paul|      24|      20000|\n",
      "|  Shubham|      23|      18000|\n",
      "|   Mahesh|    NULL|      40000|\n",
      "+---------+--------+-----------+\n",
      "\n"
     ]
    }
   ],
   "source": [
    "df_missV.groupBy(\"Name\").max('age','Salary').show()"
   ]
  },
  {
   "cell_type": "code",
   "execution_count": 545,
   "id": "6bbb6550-177a-427a-a103-eb9eefe5cb53",
   "metadata": {},
   "outputs": [],
   "source": [
    "df_trainimput=df_train.drop('age','Experience','Salary')"
   ]
  },
  {
   "cell_type": "code",
   "execution_count": 548,
   "id": "94c29633-3634-4baf-a700-0a77ebc410da",
   "metadata": {},
   "outputs": [
    {
     "name": "stdout",
     "output_type": "stream",
     "text": [
      "+---------+-----------+------------------+--------------+\n",
      "|     Name|age_imputed|Experience_imputed|Salary_imputed|\n",
      "+---------+-----------+------------------+--------------+\n",
      "|    Krish|         31|                10|         30000|\n",
      "|Sudhanshu|         30|                 8|         25000|\n",
      "|    Sunny|         29|                 4|         20000|\n",
      "|     Paul|         24|                 3|         20000|\n",
      "|   Harsha|         21|                 1|         15000|\n",
      "|  Shubham|         23|                 2|         18000|\n",
      "|   Mahesh|         28|                 5|         40000|\n",
      "|     NULL|         34|                10|         38000|\n",
      "|     NULL|         36|                 5|         25750|\n",
      "+---------+-----------+------------------+--------------+\n",
      "\n"
     ]
    }
   ],
   "source": [
    "df_trainimput.show()"
   ]
  },
  {
   "cell_type": "code",
   "execution_count": 475,
   "id": "10801f3b-168e-488e-87f1-6b3eb381e1a5",
   "metadata": {},
   "outputs": [
    {
     "name": "stdout",
     "output_type": "stream",
     "text": [
      "+-----------+--------+\n",
      "|avg(Salary)|max(Age)|\n",
      "+-----------+--------+\n",
      "|    25750.0|      36|\n",
      "+-----------+--------+\n",
      "\n"
     ]
    }
   ],
   "source": [
    "df_missV.agg({'Salary': 'avg','Age': 'Max'}).show()"
   ]
  },
  {
   "cell_type": "code",
   "execution_count": 520,
   "id": "c6033efe-2229-4dcb-a6ed-827cbd524689",
   "metadata": {},
   "outputs": [
    {
     "name": "stdout",
     "output_type": "stream",
     "text": [
      "root\n",
      " |-- Name: string (nullable = true)\n",
      " |-- age: integer (nullable = true)\n",
      " |-- Experience: integer (nullable = true)\n",
      " |-- Salary: integer (nullable = true)\n",
      "\n"
     ]
    }
   ],
   "source": [
    "df_missV.printSchema()"
   ]
  },
  {
   "cell_type": "code",
   "execution_count": 538,
   "id": "eaf1c49f-ebc0-441d-8efe-b22733a12e96",
   "metadata": {},
   "outputs": [],
   "source": [
    "from pyspark.ml.feature import VectorAssembler\n"
   ]
  },
  {
   "cell_type": "code",
   "execution_count": 549,
   "id": "7c4391de-ffc7-473c-817d-0c2070a0c5fd",
   "metadata": {},
   "outputs": [],
   "source": [
    "df_augmented =VectorAssembler(inputCols=['age_imputed','Experience_imputed'],outputCol='IndepedentFeatures')"
   ]
  },
  {
   "cell_type": "code",
   "execution_count": 577,
   "id": "7b6be814-5866-4c99-be30-3e573f6c1d4b",
   "metadata": {},
   "outputs": [],
   "source": [
    "augdataset=df_augmented.transform(df_trainimput)"
   ]
  },
  {
   "cell_type": "code",
   "execution_count": 581,
   "id": "72208e75-567e-4626-8592-909d171b6b59",
   "metadata": {},
   "outputs": [
    {
     "data": {
      "text/plain": [
       "DataFrame[Name: string, age_imputed: int, Experience_imputed: int, Salary_imputed: int, IndepedentFeatures: vector]"
      ]
     },
     "execution_count": 581,
     "metadata": {},
     "output_type": "execute_result"
    }
   ],
   "source": [
    "augdataset.na.fill({\"Name\":\"unknown\"})"
   ]
  },
  {
   "cell_type": "code",
   "execution_count": 611,
   "id": "815c9a82-e2c7-4063-ba5b-716e083074bb",
   "metadata": {},
   "outputs": [],
   "source": [
    "finaldataset=augdataset.select('IndepedentFeatures','Salary_imputed')"
   ]
  },
  {
   "cell_type": "code",
   "execution_count": 612,
   "id": "2849363e-48ae-4a1d-95d9-be31006ba1c7",
   "metadata": {},
   "outputs": [
    {
     "name": "stdout",
     "output_type": "stream",
     "text": [
      "+------------------+\n",
      "|IndepedentFeatures|\n",
      "+------------------+\n",
      "|       [31.0,10.0]|\n",
      "|        [30.0,8.0]|\n",
      "|        [29.0,4.0]|\n",
      "|        [24.0,3.0]|\n",
      "|        [21.0,1.0]|\n",
      "|        [23.0,2.0]|\n",
      "|        [28.0,5.0]|\n",
      "|       [34.0,10.0]|\n",
      "|        [36.0,5.0]|\n",
      "+------------------+\n",
      "\n"
     ]
    }
   ],
   "source": [
    "finaldataset.select('IndepedentFeatures').show()"
   ]
  },
  {
   "cell_type": "code",
   "execution_count": 553,
   "id": "70db28cc-a959-4568-97fd-35de7615bbd4",
   "metadata": {},
   "outputs": [],
   "source": [
    "from pyspark.ml.regression import LinearRegression"
   ]
  },
  {
   "cell_type": "code",
   "execution_count": 563,
   "id": "cad1e441-3157-4919-b771-fb6155ee07f1",
   "metadata": {},
   "outputs": [],
   "source": [
    " train , test = finaldataset.randomSplit([.80,.20])"
   ]
  },
  {
   "cell_type": "code",
   "execution_count": 615,
   "id": "9c24dce5-78d7-4b62-93f1-5fe27b0374ea",
   "metadata": {},
   "outputs": [],
   "source": [
    "dataF= test.select(\"IndepedentFeatures\")"
   ]
  },
  {
   "cell_type": "code",
   "execution_count": 616,
   "id": "741e11ec-b9a5-4930-92cd-2b4206644d39",
   "metadata": {},
   "outputs": [
    {
     "name": "stdout",
     "output_type": "stream",
     "text": [
      "+------------------+\n",
      "|IndepedentFeatures|\n",
      "+------------------+\n",
      "|        [36.0,5.0]|\n",
      "+------------------+\n",
      "\n"
     ]
    }
   ],
   "source": [
    "dataF.show()"
   ]
  },
  {
   "cell_type": "code",
   "execution_count": 621,
   "id": "6be24db7-64c0-4106-a80d-9529a1d1aeb4",
   "metadata": {},
   "outputs": [],
   "source": [
    "model = LinearRegression(featuresCol='IndepedentFeatures',labelCol='Salary_imputed')"
   ]
  },
  {
   "cell_type": "code",
   "execution_count": 636,
   "id": "fbe26633-5e3c-4940-a94c-4515aab5c1aa",
   "metadata": {},
   "outputs": [
    {
     "name": "stderr",
     "output_type": "stream",
     "text": [
      "25/10/02 18:26:41 WARN Instrumentation: [00e4eb45] regParam is zero, which might cause numerical instability and overfitting.\n"
     ]
    },
    {
     "ename": "AttributeError",
     "evalue": "'LinearRegressionModel' object has no attribute 'show'",
     "output_type": "error",
     "traceback": [
      "\u001B[31m---------------------------------------------------------------------------\u001B[39m",
      "\u001B[31mAttributeError\u001B[39m                            Traceback (most recent call last)",
      "\u001B[36mCell\u001B[39m\u001B[36m \u001B[39m\u001B[32mIn[636]\u001B[39m\u001B[32m, line 1\u001B[39m\n\u001B[32m----> \u001B[39m\u001B[32m1\u001B[39m predictor=\u001B[43mmodel\u001B[49m\u001B[43m.\u001B[49m\u001B[43mfit\u001B[49m\u001B[43m(\u001B[49m\u001B[43mtrain\u001B[49m\u001B[43m)\u001B[49m\u001B[43m.\u001B[49m\u001B[43mshow\u001B[49m()\n",
      "\u001B[31mAttributeError\u001B[39m: 'LinearRegressionModel' object has no attribute 'show'"
     ]
    }
   ],
   "source": [
    "predictor=model.fit(train)"
   ]
  },
  {
   "cell_type": "code",
   "execution_count": 634,
   "id": "4bc8abda-9cd1-4184-948b-97a8152d6fd8",
   "metadata": {},
   "outputs": [],
   "source": [
    "prediction = predictor.transform(dataF)"
   ]
  },
  {
   "cell_type": "code",
   "execution_count": 638,
   "id": "641b6634-095d-402b-af3d-2f5dba4ac096",
   "metadata": {},
   "outputs": [
    {
     "name": "stderr",
     "output_type": "stream",
     "text": [
      "25/10/02 18:27:59 WARN Instrumentation: [46306e46] regParam is zero, which might cause numerical instability and overfitting.\n"
     ]
    },
    {
     "name": "stdout",
     "output_type": "stream",
     "text": [
      "+------------------+-----------------+\n",
      "|IndepedentFeatures|       prediction|\n",
      "+------------------+-----------------+\n",
      "|        [36.0,5.0]|37166.07528540454|\n",
      "+------------------+-----------------+\n",
      "\n"
     ]
    }
   ],
   "source": [
    "model.fit(train).transform(dataF).show()"
   ]
  },
  {
   "cell_type": "code",
   "execution_count": 635,
   "id": "fab8a973-1bc5-4089-9758-ff0b14bdb910",
   "metadata": {},
   "outputs": [
    {
     "name": "stdout",
     "output_type": "stream",
     "text": [
      "+------------------+-----------------+\n",
      "|IndepedentFeatures|prediction       |\n",
      "+------------------+-----------------+\n",
      "|[36.0,5.0]        |37166.07528540454|\n",
      "+------------------+-----------------+\n",
      "\n"
     ]
    }
   ],
   "source": [
    "prediction.show(2, truncate=False)"
   ]
  },
  {
   "cell_type": "code",
   "execution_count": 639,
   "id": "af3bea4d-b9f4-47b7-ad24-d17b01b5e74c",
   "metadata": {},
   "outputs": [
    {
     "data": {
      "text/plain": [
       "-13044.353594566677"
      ]
     },
     "execution_count": 639,
     "metadata": {},
     "output_type": "execute_result"
    }
   ],
   "source": [
    "predictor.intercept"
   ]
  },
  {
   "cell_type": "code",
   "execution_count": 640,
   "id": "176695f3-a398-4d0f-bcfb-331e56bdef0d",
   "metadata": {},
   "outputs": [
    {
     "data": {
      "text/plain": [
       "DenseVector([1355.523, 282.3203])"
      ]
     },
     "execution_count": 640,
     "metadata": {},
     "output_type": "execute_result"
    }
   ],
   "source": [
    "predictor.coefficients"
   ]
  },
  {
   "cell_type": "code",
   "execution_count": null,
   "id": "7be20135-347f-4e57-9f8d-30db28a179db",
   "metadata": {},
   "outputs": [],
   "source": []
  }
 ],
 "metadata": {
  "kernelspec": {
   "display_name": "Python 3 (ipykernel)",
   "language": "python",
   "name": "python3"
  },
  "language_info": {
   "codemirror_mode": {
    "name": "ipython",
    "version": 3
   },
   "file_extension": ".py",
   "mimetype": "text/x-python",
   "name": "python",
   "nbconvert_exporter": "python",
   "pygments_lexer": "ipython3",
   "version": "3.13.7"
  }
 },
 "nbformat": 4,
 "nbformat_minor": 5
}
