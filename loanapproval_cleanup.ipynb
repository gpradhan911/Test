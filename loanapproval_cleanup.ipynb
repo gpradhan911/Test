{
 "cells": [
  {
   "metadata": {},
   "cell_type": "code",
   "source": [
    "from statistics import linear_regression\n",
    "\n",
    "import pandas as pd\n",
    "import numpy as np\n",
    "import pyspark as ps\n",
    "from matplotlib import pyplot as plt\n",
    "from sklearn.linear_model import LinearRegression\n",
    "from sklearn.metrics import accuracy_score\n",
    "from sklearn.model_selection import train_test_split\n",
    "from sklearn.metrics import accuracy_score"
   ],
   "id": "77603d3f249f3d13",
   "outputs": [],
   "execution_count": null
  },
  {
   "metadata": {
    "collapsed": true
   },
   "cell_type": "code",
   "source": [
    "\n",
    "\n",
    "df = pd.read_csv(\"/Users/gyanapradhan/Desktop/Datasets/loan_approval.csv\")\n",
    "df.head(5)\n",
    "\n",
    "\n",
    "\n"
   ],
   "id": "7a0717e0ff7c6864",
   "outputs": [],
   "execution_count": null
  },
  {
   "metadata": {},
   "cell_type": "code",
   "source": "df.city.isna().count\n",
   "id": "86c249b33998bf29",
   "outputs": [],
   "execution_count": null
  },
  {
   "metadata": {},
   "cell_type": "code",
   "source": "df.columns",
   "id": "f2086aed3716897a",
   "outputs": [],
   "execution_count": null
  },
  {
   "metadata": {},
   "cell_type": "code",
   "source": [
    "df_subset = df[['city', 'income', 'credit_score', 'loan_amount',\n",
    "       'years_employed', 'points', 'loan_approved']]"
   ],
   "id": "a92e011ab2b561c",
   "outputs": [],
   "execution_count": null
  },
  {
   "metadata": {},
   "cell_type": "code",
   "source": "df[df['name']!=\"NUll\"]",
   "id": "b5b964e4e0952cc2",
   "outputs": [],
   "execution_count": null
  },
  {
   "metadata": {},
   "cell_type": "code",
   "source": [
    "df_subset = df[['city', 'income', 'credit_score', 'loan_amount',\n",
    "       'years_employed', 'points', 'loan_approved']]"
   ],
   "id": "13581ce912f5519a",
   "outputs": [],
   "execution_count": null
  },
  {
   "metadata": {},
   "cell_type": "code",
   "source": "df_subset",
   "id": "b5dec99edb2fbcd2",
   "outputs": [],
   "execution_count": null
  },
  {
   "metadata": {},
   "cell_type": "code",
   "source": "df_subset[df.loan_approved.isna()]",
   "id": "766098ea5a177acf",
   "outputs": [],
   "execution_count": null
  },
  {
   "metadata": {},
   "cell_type": "code",
   "source": "df_subset['is_loan_approved'] = np.where(df.loan_approved==\"FALSE\" ,0,1)",
   "id": "be1638680b0a2295",
   "outputs": [],
   "execution_count": null
  },
  {
   "metadata": {},
   "cell_type": "code",
   "source": "df_subset.city.sort_values()",
   "id": "e75a58263dd52d75",
   "outputs": [],
   "execution_count": null
  },
  {
   "metadata": {},
   "cell_type": "code",
   "source": [
    "#df_subset.sort_values(by='city',ascending = False)\n",
    "df_subset.drop(columns=['city','loan_approved'])"
   ],
   "id": "8709613a59b3062b",
   "outputs": [],
   "execution_count": null
  },
  {
   "metadata": {},
   "cell_type": "code",
   "source": "df_subset.hist(bins=50)\n",
   "id": "c924c585c3ff5296",
   "outputs": [],
   "execution_count": null
  },
  {
   "metadata": {},
   "cell_type": "code",
   "source": [
    "df_subset_credit_score = df_subset[['credit_score','points']]\n",
    "df_subset_credit_score"
   ],
   "id": "d81e6812b6ed4363",
   "outputs": [],
   "execution_count": null
  },
  {
   "metadata": {},
   "cell_type": "code",
   "source": [
    "%matplotlib inline\n",
    "plt.scatter(df_subset_credit_score['credit_score'], df_subset_credit_score['points'],color='red',marker='+')\n",
    "plt.xlabel('Credit Score')\n",
    "plt.ylabel('Points')\n",
    "plt.title('Credit Score vs. Points')"
   ],
   "id": "e13bbdce3a152c33",
   "outputs": [],
   "execution_count": null
  },
  {
   "metadata": {},
   "cell_type": "code",
   "source": [
    "\n",
    "x = df_subset[['income','credit_score','loan_amount','years_employed']]\n",
    "y = df_subset[['is_loan_approved']]\n",
    "x_train,x_test,y_train,y_test = train_test_split(x, y, test_size=0.2, random_state=42)\n"
   ],
   "id": "45c5e4fdfe2bcb1e",
   "outputs": [],
   "execution_count": null
  },
  {
   "metadata": {},
   "cell_type": "code",
   "source": [
    "model = LinearRegression()\n",
    "model.fit(x_train,y_train)\n"
   ],
   "id": "8daba5f14754e82a",
   "outputs": [],
   "execution_count": null
  },
  {
   "metadata": {},
   "cell_type": "code",
   "source": "model.predict(x_test)\n",
   "id": "4248dc40d26f582c",
   "outputs": [],
   "execution_count": null
  },
  {
   "metadata": {},
   "cell_type": "code",
   "source": "accuracy_score(y_test,model.predict(x_test))",
   "id": "5504c3af45825039",
   "outputs": [],
   "execution_count": null
  },
  {
   "metadata": {},
   "cell_type": "code",
   "source": "model.predict([[145290,\t500,\t17500,\t15]])",
   "id": "65dfa65ab644426d",
   "outputs": [],
   "execution_count": null
  },
  {
   "metadata": {},
   "cell_type": "code",
   "source": "",
   "id": "9725f6e33bb214cb",
   "outputs": [],
   "execution_count": null
  }
 ],
 "metadata": {
  "kernelspec": {
   "display_name": "Python 3",
   "language": "python",
   "name": "python3"
  },
  "language_info": {
   "codemirror_mode": {
    "name": "ipython",
    "version": 2
   },
   "file_extension": ".py",
   "mimetype": "text/x-python",
   "name": "python",
   "nbconvert_exporter": "python",
   "pygments_lexer": "ipython2",
   "version": "2.7.6"
  }
 },
 "nbformat": 4,
 "nbformat_minor": 5
}
