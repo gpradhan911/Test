{
 "cells": [
  {
   "cell_type": "code",
   "id": "initial_id",
   "metadata": {
    "collapsed": true,
    "ExecuteTime": {
     "end_time": "2025-10-07T15:57:36.560061Z",
     "start_time": "2025-10-07T15:57:36.526629Z"
    }
   },
   "source": [
    "from typing import TypedDict,Annotated\n",
    "\n",
    "from decorator import append\n",
    "from dotenv import load_dotenv\n",
    "import os\n",
    "load_dotenv()"
   ],
   "outputs": [
    {
     "data": {
      "text/plain": [
       "True"
      ]
     },
     "execution_count": 1,
     "metadata": {},
     "output_type": "execute_result"
    }
   ],
   "execution_count": 1
  },
  {
   "metadata": {
    "ExecuteTime": {
     "end_time": "2025-10-07T15:57:39.799319Z",
     "start_time": "2025-10-07T15:57:36.625854Z"
    }
   },
   "cell_type": "code",
   "source": [
    "from langgraph.graph import StateGraph,START,END\n",
    "from langgraph.graph.message import add_messages\n",
    "\n",
    "from langchain.chat_models import init_chat_model\n",
    "llm = init_chat_model(\"google_genai:gemini-2.5-flash\")\n"
   ],
   "id": "c602422f5684ad4b",
   "outputs": [
    {
     "name": "stderr",
     "output_type": "stream",
     "text": [
      "WARNING: All log messages before absl::InitializeLog() is called are written to STDERR\n",
      "E0000 00:00:1759852659.790371    5613 alts_credentials.cc:93] ALTS creds ignored. Not running on GCP and untrusted ALTS is not enabled.\n"
     ]
    }
   ],
   "execution_count": 2
  },
  {
   "metadata": {
    "ExecuteTime": {
     "end_time": "2025-10-07T15:57:40.405474Z",
     "start_time": "2025-10-07T15:57:39.821388Z"
    }
   },
   "cell_type": "code",
   "source": [
    "class State(TypedDict):\n",
    "    messages: Annotated[list,add_messages]\n",
    "\n",
    "build = StateGraph(State)\n",
    "\n",
    "def chatbot(state:State)-> State :\n",
    "    return {\"messages\": [llm.invoke(state[\"messages\"])]}\n",
    "\n",
    "build.add_node(\"chatbot_node\", chatbot)\n",
    "build.add_edge(START, \"chatbot_node\")\n",
    "build.add_edge(\"chatbot_node\", END)\n",
    "\n",
    "app= build.compile()\n",
    "display(app)\n",
    "\n",
    "\n"
   ],
   "id": "c611fbe8051a6565",
   "outputs": [
    {
     "data": {
      "text/plain": [
       "<langgraph.graph.state.CompiledStateGraph object at 0x10f039400>"
      ],
      "image/png": "[encoded data removed]"
     },
     "metadata": {},
     "output_type": "display_data",
     "jetTransient": {
      "display_id": null
     }
    }
   ],
   "execution_count": 3
  },
  {
   "metadata": {
    "ExecuteTime": {
     "end_time": "2025-10-07T15:57:42.283172Z",
     "start_time": "2025-10-07T15:57:40.444115Z"
    }
   },
   "cell_type": "code",
   "source": [
    "message ={\"role\":\"user\", \"content\":\"who landed on moon first ?\"}\n",
    "app.invoke({\"messages\" : [message]})\n"
   ],
   "id": "86be2c3f7a0c7395",
   "outputs": [
    {
     "data": {
      "text/plain": [
       "{'messages': [HumanMessage(content='who landed on moon first ?', additional_kwargs={}, response_metadata={}, id='dfbe28c3-a767-424f-a372-37852e0bac58'),\n",
       "  AIMessage(content='**Neil Armstrong** was the first person to land on the Moon.', additional_kwargs={}, response_metadata={'prompt_feedback': {'block_reason': 0, 'safety_ratings': []}, 'finish_reason': 'STOP', 'model_name': 'gemini-2.5-flash', 'safety_ratings': []}, id='run--bbc8c355-3e19-4abf-a053-f56b00b368c5-0', usage_metadata={'input_tokens': 7, 'output_tokens': 41, 'total_tokens': 48, 'input_token_details': {'cache_read': 0}, 'output_token_details': {'reasoning': 27}})]}"
      ]
     },
     "execution_count": 4,
     "metadata": {},
     "output_type": "execute_result"
    }
   ],
   "execution_count": 4
  },
  {
   "metadata": {
    "ExecuteTime": {
     "end_time": "2025-10-07T16:00:27.537789Z",
     "start_time": "2025-10-07T15:57:42.314312Z"
    }
   },
   "cell_type": "code",
   "source": [
    "state=None\n",
    "while True:\n",
    "    in_message =input(\"You:\")\n",
    "    if in_message.lower() in {\"quit\",\"exit\"}:\n",
    "        break\n",
    "    if state is None:\n",
    "        state: State = {\n",
    "        \"messages\" :[{\"role\":\"user\", \"content\": in_message}]\n",
    "        }\n",
    "\n",
    "    else:\n",
    "        state[\"messages\"].append({\"role\":\"user\",\"content\":in_message})\n",
    "\n",
    "\n",
    "    state= app.invoke(state)\n",
    "    print(\"BOT:\",state[\"messages\"][ -1].content)"
   ],
   "id": "277f1e954d42e815",
   "outputs": [
    {
     "name": "stdout",
     "output_type": "stream",
     "text": [
      "BOT: While not an official title, the person most commonly referred to as \"America's Tariff King\" in recent memory, due to his extensive use of and advocacy for tariffs, is **Donald Trump**.\n",
      "\n",
      "He frequently referred to himself as \"Tariff Man\" and implemented significant tariffs on various goods, particularly from China, as well as on steel and aluminum imports from multiple countries, during his presidency.\n",
      "\n",
      "Historically, other figures and periods have been strongly associated with tariffs:\n",
      "\n",
      "*   **Alexander Hamilton:** As the first Secretary of the Treasury, he advocated for protective tariffs to foster American industries.\n",
      "*   **Henry Clay:** His \"American System\" included high protective tariffs to support internal improvements and domestic manufacturing.\n",
      "*   **The period leading up to the Civil War:** Tariffs were a major point of contention between the industrial North (which favored them) and the agrarian South (which opposed them).\n",
      "*   **The Gilded Age (late 19th century):** This era saw consistently high tariffs, often championed by Republican presidents like William McKinley.\n",
      "\n",
      "However, in contemporary discourse, the \"tariff king\" moniker most directly points to Donald Trump.\n",
      "BOT: Donald Trump was born on **June 14, 1946**.\n"
     ]
    },
    {
     "ename": "KeyboardInterrupt",
     "evalue": "Interrupted by user",
     "output_type": "error",
     "traceback": [
      "\u001B[31m---------------------------------------------------------------------------\u001B[39m",
      "\u001B[31mKeyboardInterrupt\u001B[39m                         Traceback (most recent call last)",
      "\u001B[36mCell\u001B[39m\u001B[36m \u001B[39m\u001B[32mIn[5]\u001B[39m\u001B[32m, line 3\u001B[39m\n\u001B[32m      1\u001B[39m state=\u001B[38;5;28;01mNone\u001B[39;00m\n\u001B[32m      2\u001B[39m \u001B[38;5;28;01mwhile\u001B[39;00m \u001B[38;5;28;01mTrue\u001B[39;00m:\n\u001B[32m----> \u001B[39m\u001B[32m3\u001B[39m     in_message =\u001B[38;5;28;43minput\u001B[39;49m\u001B[43m(\u001B[49m\u001B[33;43m\"\u001B[39;49m\u001B[33;43mYou:\u001B[39;49m\u001B[33;43m\"\u001B[39;49m\u001B[43m)\u001B[49m\n\u001B[32m      4\u001B[39m     \u001B[38;5;28;01mif\u001B[39;00m in_message.lower() \u001B[38;5;129;01min\u001B[39;00m {\u001B[33m\"\u001B[39m\u001B[33mquit\u001B[39m\u001B[33m\"\u001B[39m,\u001B[33m\"\u001B[39m\u001B[33mexit\u001B[39m\u001B[33m\"\u001B[39m}:\n\u001B[32m      5\u001B[39m         \u001B[38;5;28;01mbreak\u001B[39;00m\n",
      "\u001B[36mFile \u001B[39m\u001B[32m~/PycharmProjects/PythonProject/langchain/.venv/lib/python3.13/site-packages/ipykernel/kernelbase.py:1275\u001B[39m, in \u001B[36mKernel.raw_input\u001B[39m\u001B[34m(self, prompt)\u001B[39m\n\u001B[32m   1273\u001B[39m     msg = \u001B[33m\"\u001B[39m\u001B[33mraw_input was called, but this frontend does not support input requests.\u001B[39m\u001B[33m\"\u001B[39m\n\u001B[32m   1274\u001B[39m     \u001B[38;5;28;01mraise\u001B[39;00m StdinNotImplementedError(msg)\n\u001B[32m-> \u001B[39m\u001B[32m1275\u001B[39m \u001B[38;5;28;01mreturn\u001B[39;00m \u001B[38;5;28;43mself\u001B[39;49m\u001B[43m.\u001B[49m\u001B[43m_input_request\u001B[49m\u001B[43m(\u001B[49m\n\u001B[32m   1276\u001B[39m \u001B[43m    \u001B[49m\u001B[38;5;28;43mstr\u001B[39;49m\u001B[43m(\u001B[49m\u001B[43mprompt\u001B[49m\u001B[43m)\u001B[49m\u001B[43m,\u001B[49m\n\u001B[32m   1277\u001B[39m \u001B[43m    \u001B[49m\u001B[38;5;28;43mself\u001B[39;49m\u001B[43m.\u001B[49m\u001B[43m_parent_ident\u001B[49m\u001B[43m[\u001B[49m\u001B[33;43m\"\u001B[39;49m\u001B[33;43mshell\u001B[39;49m\u001B[33;43m\"\u001B[39;49m\u001B[43m]\u001B[49m\u001B[43m,\u001B[49m\n\u001B[32m   1278\u001B[39m \u001B[43m    \u001B[49m\u001B[38;5;28;43mself\u001B[39;49m\u001B[43m.\u001B[49m\u001B[43mget_parent\u001B[49m\u001B[43m(\u001B[49m\u001B[33;43m\"\u001B[39;49m\u001B[33;43mshell\u001B[39;49m\u001B[33;43m\"\u001B[39;49m\u001B[43m)\u001B[49m\u001B[43m,\u001B[49m\n\u001B[32m   1279\u001B[39m \u001B[43m    \u001B[49m\u001B[43mpassword\u001B[49m\u001B[43m=\u001B[49m\u001B[38;5;28;43;01mFalse\u001B[39;49;00m\u001B[43m,\u001B[49m\n\u001B[32m   1280\u001B[39m \u001B[43m\u001B[49m\u001B[43m)\u001B[49m\n",
      "\u001B[36mFile \u001B[39m\u001B[32m~/PycharmProjects/PythonProject/langchain/.venv/lib/python3.13/site-packages/ipykernel/kernelbase.py:1320\u001B[39m, in \u001B[36mKernel._input_request\u001B[39m\u001B[34m(self, prompt, ident, parent, password)\u001B[39m\n\u001B[32m   1317\u001B[39m \u001B[38;5;28;01mexcept\u001B[39;00m \u001B[38;5;167;01mKeyboardInterrupt\u001B[39;00m:\n\u001B[32m   1318\u001B[39m     \u001B[38;5;66;03m# re-raise KeyboardInterrupt, to truncate traceback\u001B[39;00m\n\u001B[32m   1319\u001B[39m     msg = \u001B[33m\"\u001B[39m\u001B[33mInterrupted by user\u001B[39m\u001B[33m\"\u001B[39m\n\u001B[32m-> \u001B[39m\u001B[32m1320\u001B[39m     \u001B[38;5;28;01mraise\u001B[39;00m \u001B[38;5;167;01mKeyboardInterrupt\u001B[39;00m(msg) \u001B[38;5;28;01mfrom\u001B[39;00m\u001B[38;5;250m \u001B[39m\u001B[38;5;28;01mNone\u001B[39;00m\n\u001B[32m   1321\u001B[39m \u001B[38;5;28;01mexcept\u001B[39;00m \u001B[38;5;167;01mException\u001B[39;00m:\n\u001B[32m   1322\u001B[39m     \u001B[38;5;28mself\u001B[39m.log.warning(\u001B[33m\"\u001B[39m\u001B[33mInvalid Message:\u001B[39m\u001B[33m\"\u001B[39m, exc_info=\u001B[38;5;28;01mTrue\u001B[39;00m)\n",
      "\u001B[31mKeyboardInterrupt\u001B[39m: Interrupted by user"
     ]
    }
   ],
   "execution_count": 5
  },
  {
   "metadata": {},
   "cell_type": "code",
   "outputs": [],
   "execution_count": null,
   "source": "",
   "id": "25439036bb530939"
  }
 ],
 "metadata": {
  "kernelspec": {
   "display_name": "Python 3",
   "language": "python",
   "name": "python3"
  },
  "language_info": {
   "codemirror_mode": {
    "name": "ipython",
    "version": 2
   },
   "file_extension": ".py",
   "mimetype": "text/x-python",
   "name": "python",
   "nbconvert_exporter": "python",
   "pygments_lexer": "ipython2",
   "version": "2.7.6"
  }
 },
 "nbformat": 4,
 "nbformat_minor": 5
}
