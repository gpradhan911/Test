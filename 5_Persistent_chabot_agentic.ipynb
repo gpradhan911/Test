{
 "cells": [
  {
   "cell_type": "code",
   "id": "initial_id",
   "metadata": {
    "collapsed": true,
    "ExecuteTime": {
     "end_time": "2025-10-08T06:36:14.300395Z",
     "start_time": "2025-10-08T06:36:14.270544Z"
    }
   },
   "source": [
    "from dotenv import load_dotenv\n",
    "load_dotenv()\n",
    "\n",
    "from typing import TypedDict,Annotated\n",
    "from langchain.chat_models import init_chat_model\n",
    "from langgraph.graph import StateGraph,START,END\n",
    "from langgraph.graph.message import  add_messages\n",
    "from langchain_core.tools import tool\n",
    "from langgraph.prebuilt import tools_condition,ToolNode\n",
    "from IPython.display import display,Image\n",
    "from langgraph.checkpoint.memory import MemorySaver\n"
   ],
   "outputs": [],
   "execution_count": 9
  },
  {
   "metadata": {
    "ExecuteTime": {
     "end_time": "2025-10-08T06:36:16.819267Z",
     "start_time": "2025-10-08T06:36:16.772140Z"
    }
   },
   "cell_type": "code",
   "source": [
    "@tool\n",
    "def get_stock_price(symbol: str) -> float:\n",
    "    '''This function returns the stock price\n",
    "    :param symbol : stock symbol\n",
    "    :return: current price of stock\n",
    "    '''\n",
    "\n",
    "    return{\n",
    "        \"MSFT\" :100.6,\n",
    "        \"AAPL\" :250.5,\n",
    "        \"GOOG\" :175.8,\n",
    "        \"AMZN\" :123.0,\n",
    "    }.get(symbol, 0.00)\n",
    "\n",
    "tools= [get_stock_price]\n",
    "\n",
    "llm = init_chat_model(\"google_genai:gemini-2.5-flash\")\n",
    "llm_with_tools =llm.bind_tools(tools)\n",
    "\n",
    "class State(TypedDict):\n",
    "    messages: Annotated[list,add_messages]\n",
    "\n",
    "\n",
    "\n",
    "def chatbot(state:State):\n",
    "    return {\"messages\": [llm_with_tools.invoke(state[\"messages\"])]}\n",
    "\n",
    "\n",
    "\n",
    "\n"
   ],
   "id": "74ad13970d24c8cd",
   "outputs": [
    {
     "name": "stderr",
     "output_type": "stream",
     "text": [
      "E0000 00:00:1759905376.804661   48250 alts_credentials.cc:93] ALTS creds ignored. Not running on GCP and untrusted ALTS is not enabled.\n"
     ]
    }
   ],
   "execution_count": 10
  },
  {
   "metadata": {
    "ExecuteTime": {
     "end_time": "2025-10-08T06:36:19.593559Z",
     "start_time": "2025-10-08T06:36:18.985496Z"
    }
   },
   "cell_type": "code",
   "source": [
    "build = StateGraph(State)\n",
    "build.add_node(\"chatbot_node\", chatbot)\n",
    "build.add_node(\"tools\",ToolNode(tools))\n",
    "\n",
    "build.add_edge(START, \"chatbot_node\")\n",
    "build.add_conditional_edges( \"chatbot_node\",tools_condition)\n",
    "build.add_edge(\"tools\",\"chatbot_node\")\n",
    "\n",
    "memory = MemorySaver()\n",
    "app= build.compile(checkpointer=memory)\n",
    "display(app)"
   ],
   "id": "de8e269b83916a56",
   "outputs": [
    {
     "data": {
      "text/plain": [
       "<langgraph.graph.state.CompiledStateGraph object at 0x10ce6f110>"
      ],
      "image/png": "[encoded data removed]"
     },
     "metadata": {},
     "output_type": "display_data",
     "jetTransient": {
      "display_id": null
     }
    }
   ],
   "execution_count": 11
  },
  {
   "metadata": {
    "ExecuteTime": {
     "end_time": "2025-10-08T06:36:25.328827Z",
     "start_time": "2025-10-08T06:36:22.606653Z"
    }
   },
   "cell_type": "code",
   "source": [
    "config1 ={\"configurable\": {\"thread_id\": \"1\"}}\n",
    "message ={\"role\":\"user\", \"content\":\"what is the price of AMZN stock price  ?\"}\n",
    "output=app.invoke({\"messages\" : [message]}, config=config1)\n",
    "#print(output)\n",
    "print(output[\"messages\"][-1].content)"
   ],
   "id": "b9f6a3abab4dcd27",
   "outputs": [
    {
     "name": "stdout",
     "output_type": "stream",
     "text": [
      "{'messages': [HumanMessage(content='what is the price of AMZN stock price  ?', additional_kwargs={}, response_metadata={}, id='beb64018-dc7a-4ec8-bab7-6a8350c8c827'), AIMessage(content='', additional_kwargs={'function_call': {'name': 'get_stock_price', 'arguments': '{\"symbol\": \"AMZN\"}'}}, response_metadata={'prompt_feedback': {'block_reason': 0, 'safety_ratings': []}, 'finish_reason': 'STOP', 'model_name': 'gemini-2.5-flash', 'safety_ratings': []}, id='run--5be37e0e-bb67-44ac-83d5-732eedf1c4a0-0', tool_calls=[{'name': 'get_stock_price', 'args': {'symbol': 'AMZN'}, 'id': '511f27b6-790c-454a-9ad4-61eb3154f0e0', 'type': 'tool_call'}], usage_metadata={'input_tokens': 69, 'output_tokens': 98, 'total_tokens': 167, 'input_token_details': {'cache_read': 0}, 'output_token_details': {'reasoning': 80}}), ToolMessage(content='123.0', name='get_stock_price', id='93080c42-7cca-4501-9f9d-957862ae8cec', tool_call_id='511f27b6-790c-454a-9ad4-61eb3154f0e0'), AIMessage(content='The stock price of AMZN is 123.', additional_kwargs={}, response_metadata={'prompt_feedback': {'block_reason': 0, 'safety_ratings': []}, 'finish_reason': 'STOP', 'model_name': 'gemini-2.5-flash', 'safety_ratings': []}, id='run--57b64651-2635-4a89-ba7a-f0ceb833b2d3-0', usage_metadata={'input_tokens': 106, 'output_tokens': 12, 'total_tokens': 118, 'input_token_details': {'cache_read': 0}})]}\n"
     ]
    }
   ],
   "execution_count": 12
  },
  {
   "metadata": {
    "ExecuteTime": {
     "end_time": "2025-10-08T06:40:33.101945Z",
     "start_time": "2025-10-08T06:40:29.220074Z"
    }
   },
   "cell_type": "code",
   "source": [
    "config2= {\"configurable\": {\"thread_id\": \"2\"}}\n",
    "message ='add another 10 stock of \"GOOG\"  to previous total and tell the new total price'\n",
    "output= app.invoke({\"messages\" : [{\"role\":\"user\", \"content\":message}]},config=config2)\n",
    "#print(output)\n",
    "print(output[\"messages\"][-1].content)"
   ],
   "id": "4da58237b4850756",
   "outputs": [
    {
     "name": "stdout",
     "output_type": "stream",
     "text": [
      "The new total price would be 3804.2\n"
     ]
    }
   ],
   "execution_count": 15
  },
  {
   "metadata": {
    "ExecuteTime": {
     "end_time": "2025-10-08T06:44:55.656032Z",
     "start_time": "2025-10-08T06:44:52.191177Z"
    }
   },
   "cell_type": "code",
   "source": [
    "config2= {\"configurable\": {\"thread_id\": \"2\"}}\n",
    "output=app.invoke({\"messages\":[{\"role\":\"user\", \"content\":\"add another 20 Stock of 'AAPL' to the previous total and tell the new total price\"}]},config=config2)\n",
    "#print(output)\n",
    "print(output[\"messages\"][ -1].content)\n"
   ],
   "id": "bafa527fb2232514",
   "outputs": [
    {
     "name": "stdout",
     "output_type": "stream",
     "text": [
      "The new total price would be 8814.2\n"
     ]
    }
   ],
   "execution_count": 19
  },
  {
   "metadata": {},
   "cell_type": "code",
   "source": "",
   "id": "8243a3566f992b69",
   "outputs": [],
   "execution_count": null
  }
 ],
 "metadata": {
  "kernelspec": {
   "display_name": "Python 3",
   "language": "python",
   "name": "python3"
  },
  "language_info": {
   "codemirror_mode": {
    "name": "ipython",
    "version": 2
   },
   "file_extension": ".py",
   "mimetype": "text/x-python",
   "name": "python",
   "nbconvert_exporter": "python",
   "pygments_lexer": "ipython2",
   "version": "2.7.6"
  }
 },
 "nbformat": 4,
 "nbformat_minor": 5
}
